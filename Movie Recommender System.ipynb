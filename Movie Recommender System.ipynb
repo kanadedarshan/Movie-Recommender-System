{
 "cells": [
  {
   "cell_type": "markdown",
   "id": "0d05b319",
   "metadata": {
    "id": "0d05b319"
   },
   "source": [
    "# <font color='red'> Movies Recommender System"
   ]
  },
  {
   "cell_type": "markdown",
   "id": "a1d4e425",
   "metadata": {},
   "source": [
    "# <font color='green'> 1. Business Problem"
   ]
  },
  {
   "cell_type": "markdown",
   "id": "a20fd5ba",
   "metadata": {},
   "source": [
    "## 1.1 Problem Statement"
   ]
  },
  {
   "cell_type": "markdown",
   "id": "b2601fe9",
   "metadata": {},
   "source": [
    "__Given the movie metadata and user ratings on different movies, we have to recommend new movies to the user.__"
   ]
  },
  {
   "cell_type": "markdown",
   "id": "0998003c",
   "metadata": {},
   "source": [
    "## 1.2 Data Overview"
   ]
  },
  {
   "cell_type": "markdown",
   "id": "872f1394",
   "metadata": {},
   "source": [
    "Source: https://www.kaggle.com/datasets/rounakbanik/the-movies-dataset\n",
    "\n",
    "These files contain metadata for all 45,000 movies listed in the Full MovieLens Dataset. The dataset consists of movies released on or before July 2017. Data points include cast, crew, plot keywords, budget, revenue, posters, release dates, languages, production companies, countries, TMDB vote counts and vote averages.\n",
    "\n",
    "Ratings are on a scale of 1-5 and have been obtained from the official GroupLens website.\n",
    "\n",
    "<pre>\n",
    "\n",
    "Of all the 26 million ratings from 270,000 users for all 45,000 movies available, we consider a subset of 100,000 ratings on 9000 movies rated by 700 users (ratings_small.csv)*\n",
    "\n",
    "We also don't need the credits.csv file which contains the cast and crew information of all the movies.*\n",
    "\n",
    "</pre>\n",
    "So, the files we will use here are:\n",
    "\n",
    "* <b>movies_metadata.csv</b> : <p>The main Movies Metadata file. Contains information on 45,000 movies featured in the Full MovieLens dataset. Features include posters, backdrops, budget, revenue, release dates, languages, production countries and companies.</p>\n",
    "\n",
    "* <b>keywords.csv</b> : <p>Contains the movie plot keywords for our MovieLens movies. Available in the form of a stringified JSON Object.</p>\n",
    "\n",
    "* <b>links_small.csv</b> : <p>Contains the TMDB and IMDB IDs of a small subset of 9,000 movies of the Full Dataset.</p>\n",
    "\n",
    "* <b>ratings_small.csv</b> : <p>The subset of 100,000 ratings from 700 users on 9,000 movies.</p>"
   ]
  },
  {
   "cell_type": "markdown",
   "id": "72061838",
   "metadata": {},
   "source": [
    "## 1.3 Sources/Useful Links"
   ]
  },
  {
   "cell_type": "markdown",
   "id": "08a9c324",
   "metadata": {},
   "source": [
    "* https://www.infoworld.com/article/3241852/how-to-implement-a-recommender-system.html\n",
    "* https://medium.com/pinterest-engineering/introducing-pixie-an-advanced-graph-based-recommendation-system-e7b4229b664b\n",
    "* https://surpriselib.com/\n",
    "* https://surprise.readthedocs.io/en/stable/matrix_factorization.html"
   ]
  },
  {
   "cell_type": "markdown",
   "id": "bb7897ce",
   "metadata": {},
   "source": [
    "## 1.4 Business Objectives and Constraints"
   ]
  },
  {
   "cell_type": "markdown",
   "id": "b924d874",
   "metadata": {},
   "source": [
    "* Objectives\n",
    "<pre>\n",
    "    * Based on the user's ratings on other movies, predict their rating on a movie which they have not yet rated. \n",
    "    * Minimize the difference between true and predicted ratings.\n",
    "    * Suggest movies similar to a movie based on it's genre and plot keywords. \n",
    "</pre>\n",
    "* Constraints\n",
    "<pre>\n",
    "    * Interpretability\n",
    "    * No strict low latency requirements\n",
    "</pre>"
   ]
  },
  {
   "cell_type": "markdown",
   "id": "caf1750f",
   "metadata": {},
   "source": [
    "## 1.5 Type of machine learning problem"
   ]
  },
  {
   "cell_type": "markdown",
   "id": "bca17a5e",
   "metadata": {},
   "source": [
    "This is a recommender systems problem since we have to recommend new movies given the ratings on other movies.\n",
    "\n",
    "It can also be thought of as a Regression problem."
   ]
  },
  {
   "cell_type": "markdown",
   "id": "3ee496a1",
   "metadata": {},
   "source": [
    "## 1.6 Performance metric"
   ]
  },
  {
   "cell_type": "markdown",
   "id": "46c15e5b",
   "metadata": {},
   "source": [
    "Mean Squared Error(MSE) or Root Mean squared Error(RMSE)"
   ]
  },
  {
   "cell_type": "markdown",
   "id": "afeb99d6",
   "metadata": {},
   "source": [
    "### <font color='blue'>Imports"
   ]
  },
  {
   "cell_type": "code",
   "execution_count": 1,
   "id": "90422c65",
   "metadata": {
    "id": "90422c65"
   },
   "outputs": [],
   "source": [
    "import pandas as pd\n",
    "import numpy as np\n",
    "import warnings\n",
    "import ast \n",
    "from scipy.sparse import csr_matrix\n",
    "import matplotlib.pyplot as plt\n",
    "from sklearn.model_selection import train_test_split\n",
    "import seaborn as sns\n",
    "import os\n",
    "from sklearn.metrics import mean_squared_error\n",
    "from surprise import Reader,Dataset\n",
    "from surprise import BaselineOnly, SVD, SVDpp\n",
    "import surprise\n",
    "import pickle\n",
    "from prettytable import PrettyTable\n",
    "from tqdm import tqdm\n",
    "import networkx as nx\n",
    "from networkx.algorithms import bipartite\n",
    "from stellargraph.data import BiasedRandomWalk\n",
    "from stellargraph import StellarGraph\n",
    "from sklearn.feature_extraction.text import CountVectorizer\n",
    "warnings.filterwarnings('ignore')\n",
    "path_ = 'C:/Users/ANKUR/Desktop/Project/'"
   ]
  },
  {
   "cell_type": "markdown",
   "id": "9058d3c7",
   "metadata": {
    "id": "9058d3c7"
   },
   "source": [
    "# <font color='green'> 2. Exploratory Data Analysis"
   ]
  },
  {
   "cell_type": "markdown",
   "id": "faca50ef",
   "metadata": {
    "id": "faca50ef"
   },
   "source": [
    "##  2.1 Loading the data"
   ]
  },
  {
   "cell_type": "code",
   "execution_count": 2,
   "id": "8162e54c",
   "metadata": {
    "id": "8162e54c"
   },
   "outputs": [],
   "source": [
    "#https://www.kaggle.com/datasets/rounakbanik/the-movies-dataset\n",
    "movies = pd.read_csv(path_+'movies_metadata.csv')\n",
    "ratings = pd.read_csv(path_+'ratings_small.csv')\n",
    "keywords = pd.read_csv(path_+'keywords.csv')\n",
    "links = pd.read_csv(path_+'links_small.csv')"
   ]
  },
  {
   "cell_type": "code",
   "execution_count": 3,
   "id": "e5afbec7",
   "metadata": {
    "colab": {
     "base_uri": "https://localhost:8080/"
    },
    "id": "e5afbec7",
    "outputId": "4f5a7dcd-0b1b-4ab4-aa57-f51a0b52e0a6",
    "scrolled": true
   },
   "outputs": [
    {
     "name": "stdout",
     "output_type": "stream",
     "text": [
      "movies   : (45466, 24)\n",
      "ratings  : (100004, 4)\n",
      "keywords : (46419, 2)\n",
      "links    : (9125, 3)\n"
     ]
    }
   ],
   "source": [
    "print('movies   :', movies.shape)\n",
    "print('ratings  :', ratings.shape)\n",
    "print('keywords :', keywords.shape)\n",
    "print('links    :', links.shape)"
   ]
  },
  {
   "cell_type": "markdown",
   "id": "0377a25b",
   "metadata": {
    "id": "0377a25b"
   },
   "source": [
    "## 2.2 Data Cleaning"
   ]
  },
  {
   "cell_type": "markdown",
   "id": "d617dc22",
   "metadata": {
    "id": "d617dc22"
   },
   "source": [
    "### Removing duplicate rows"
   ]
  },
  {
   "cell_type": "code",
   "execution_count": 4,
   "id": "58e466b4",
   "metadata": {
    "colab": {
     "base_uri": "https://localhost:8080/"
    },
    "id": "58e466b4",
    "outputId": "ec3f4647-f5d8-475d-f009-6fbd9c4dd495"
   },
   "outputs": [
    {
     "name": "stdout",
     "output_type": "stream",
     "text": [
      "No. of duplicate rows in movies: 13\n"
     ]
    }
   ],
   "source": [
    "print('No. of duplicate rows in movies:', movies.duplicated().sum())\n",
    "movies.drop_duplicates(inplace=True)"
   ]
  },
  {
   "cell_type": "code",
   "execution_count": 5,
   "id": "898b2a01",
   "metadata": {},
   "outputs": [
    {
     "name": "stdout",
     "output_type": "stream",
     "text": [
      "No. of duplicate rows in keywords: 987\n"
     ]
    }
   ],
   "source": [
    "print('No. of duplicate rows in keywords:', keywords.duplicated().sum())\n",
    "keywords.drop_duplicates(inplace=True)"
   ]
  },
  {
   "cell_type": "markdown",
   "id": "019b9a85",
   "metadata": {
    "id": "019b9a85"
   },
   "source": [
    "### Removing NaN rows"
   ]
  },
  {
   "cell_type": "code",
   "execution_count": 6,
   "id": "f52cbaf7",
   "metadata": {
    "colab": {
     "base_uri": "https://localhost:8080/"
    },
    "id": "f52cbaf7",
    "outputId": "6bab952a-cefe-4af2-d986-8ddd563ee40c"
   },
   "outputs": [
    {
     "name": "stdout",
     "output_type": "stream",
     "text": [
      "No. of rows where title is NaN: 6\n"
     ]
    }
   ],
   "source": [
    "#movies[movies.title.isnull()]\n",
    "print('No. of rows where title is NaN:', movies.title.isnull().sum())\n",
    "movies.drop(movies[movies.title.isnull()].index, inplace=True)"
   ]
  },
  {
   "cell_type": "markdown",
   "id": "27b88e25",
   "metadata": {
    "id": "27b88e25"
   },
   "source": [
    "### Merging the dataframes"
   ]
  },
  {
   "cell_type": "code",
   "execution_count": 7,
   "id": "db59d086",
   "metadata": {
    "colab": {
     "base_uri": "https://localhost:8080/"
    },
    "id": "db59d086",
    "outputId": "8f6a1caf-aeac-4622-96d3-ade8c91ca4c0",
    "scrolled": true
   },
   "outputs": [
    {
     "data": {
      "text/plain": [
       "Index(['adult', 'belongs_to_collection', 'budget', 'genres', 'homepage', 'id',\n",
       "       'imdb_id', 'original_language', 'original_title', 'overview',\n",
       "       'popularity', 'poster_path', 'production_companies',\n",
       "       'production_countries', 'release_date', 'revenue', 'runtime',\n",
       "       'spoken_languages', 'status', 'tagline', 'title', 'video',\n",
       "       'vote_average', 'vote_count'],\n",
       "      dtype='object')"
      ]
     },
     "execution_count": 7,
     "metadata": {},
     "output_type": "execute_result"
    }
   ],
   "source": [
    "movies.columns #we don't need all the columns... during prediction, we use tmdb api for getting poster_path and other details"
   ]
  },
  {
   "cell_type": "code",
   "execution_count": 8,
   "id": "757589fd",
   "metadata": {
    "colab": {
     "base_uri": "https://localhost:8080/"
    },
    "id": "757589fd",
    "outputId": "d18f9192-d3bb-4128-d53d-148a9c26cfde"
   },
   "outputs": [
    {
     "data": {
      "text/plain": [
       "(45447, 3)"
      ]
     },
     "execution_count": 8,
     "metadata": {},
     "output_type": "execute_result"
    }
   ],
   "source": [
    "movies = movies[['id','title','genres']]\n",
    "movies.shape"
   ]
  },
  {
   "cell_type": "code",
   "execution_count": 9,
   "id": "136c0a73",
   "metadata": {
    "colab": {
     "base_uri": "https://localhost:8080/",
     "height": 337
    },
    "id": "136c0a73",
    "outputId": "eff14034-1d16-450e-a8f9-3512f7ca8d19",
    "scrolled": true
   },
   "outputs": [
    {
     "data": {
      "text/html": [
       "<div>\n",
       "<style scoped>\n",
       "    .dataframe tbody tr th:only-of-type {\n",
       "        vertical-align: middle;\n",
       "    }\n",
       "\n",
       "    .dataframe tbody tr th {\n",
       "        vertical-align: top;\n",
       "    }\n",
       "\n",
       "    .dataframe thead th {\n",
       "        text-align: right;\n",
       "    }\n",
       "</style>\n",
       "<table border=\"1\" class=\"dataframe\">\n",
       "  <thead>\n",
       "    <tr style=\"text-align: right;\">\n",
       "      <th></th>\n",
       "      <th>title</th>\n",
       "      <th>genres</th>\n",
       "      <th>movieId</th>\n",
       "      <th>tmdbId</th>\n",
       "    </tr>\n",
       "  </thead>\n",
       "  <tbody>\n",
       "    <tr>\n",
       "      <th>0</th>\n",
       "      <td>Toy Story</td>\n",
       "      <td>[{'id': 16, 'name': 'Animation'}, {'id': 35, '...</td>\n",
       "      <td>1</td>\n",
       "      <td>862.0</td>\n",
       "    </tr>\n",
       "    <tr>\n",
       "      <th>1</th>\n",
       "      <td>Jumanji</td>\n",
       "      <td>[{'id': 12, 'name': 'Adventure'}, {'id': 14, '...</td>\n",
       "      <td>2</td>\n",
       "      <td>8844.0</td>\n",
       "    </tr>\n",
       "    <tr>\n",
       "      <th>2</th>\n",
       "      <td>Grumpier Old Men</td>\n",
       "      <td>[{'id': 10749, 'name': 'Romance'}, {'id': 35, ...</td>\n",
       "      <td>3</td>\n",
       "      <td>15602.0</td>\n",
       "    </tr>\n",
       "    <tr>\n",
       "      <th>3</th>\n",
       "      <td>Waiting to Exhale</td>\n",
       "      <td>[{'id': 35, 'name': 'Comedy'}, {'id': 18, 'nam...</td>\n",
       "      <td>4</td>\n",
       "      <td>31357.0</td>\n",
       "    </tr>\n",
       "    <tr>\n",
       "      <th>4</th>\n",
       "      <td>Father of the Bride Part II</td>\n",
       "      <td>[{'id': 35, 'name': 'Comedy'}]</td>\n",
       "      <td>5</td>\n",
       "      <td>11862.0</td>\n",
       "    </tr>\n",
       "  </tbody>\n",
       "</table>\n",
       "</div>"
      ],
      "text/plain": [
       "                         title  \\\n",
       "0                    Toy Story   \n",
       "1                      Jumanji   \n",
       "2             Grumpier Old Men   \n",
       "3            Waiting to Exhale   \n",
       "4  Father of the Bride Part II   \n",
       "\n",
       "                                              genres  movieId   tmdbId  \n",
       "0  [{'id': 16, 'name': 'Animation'}, {'id': 35, '...        1    862.0  \n",
       "1  [{'id': 12, 'name': 'Adventure'}, {'id': 14, '...        2   8844.0  \n",
       "2  [{'id': 10749, 'name': 'Romance'}, {'id': 35, ...        3  15602.0  \n",
       "3  [{'id': 35, 'name': 'Comedy'}, {'id': 18, 'nam...        4  31357.0  \n",
       "4                     [{'id': 35, 'name': 'Comedy'}]        5  11862.0  "
      ]
     },
     "metadata": {},
     "output_type": "display_data"
    },
    {
     "name": "stdout",
     "output_type": "stream",
     "text": [
      "(9092, 4)\n"
     ]
    }
   ],
   "source": [
    "movies.id = movies.id.astype(float)                                 #object --> float\n",
    "movies = movies.merge(links, left_on='id', right_on='tmdbId')\n",
    "movies.drop(['imdbId','id'], axis=1, inplace=True)               #tmdbId is required for fetching details during prediction\n",
    "display(movies.head())\n",
    "print(movies.shape)"
   ]
  },
  {
   "cell_type": "code",
   "execution_count": 10,
   "id": "d0e9a564",
   "metadata": {
    "colab": {
     "base_uri": "https://localhost:8080/"
    },
    "id": "d0e9a564",
    "outputId": "571c5638-5a02-4926-ff50-93d14cdfb21e"
   },
   "outputs": [
    {
     "name": "stdout",
     "output_type": "stream",
     "text": [
      "No. of duplicate rows: 10\n"
     ]
    },
    {
     "data": {
      "text/plain": [
       "(9082, 4)"
      ]
     },
     "execution_count": 10,
     "metadata": {},
     "output_type": "execute_result"
    }
   ],
   "source": [
    "print('No. of duplicate rows:', movies.duplicated().sum())\n",
    "movies.drop_duplicates(inplace=True)\n",
    "movies.shape"
   ]
  },
  {
   "cell_type": "code",
   "execution_count": 11,
   "id": "2eef29c4",
   "metadata": {},
   "outputs": [
    {
     "data": {
      "text/html": [
       "<div>\n",
       "<style scoped>\n",
       "    .dataframe tbody tr th:only-of-type {\n",
       "        vertical-align: middle;\n",
       "    }\n",
       "\n",
       "    .dataframe tbody tr th {\n",
       "        vertical-align: top;\n",
       "    }\n",
       "\n",
       "    .dataframe thead th {\n",
       "        text-align: right;\n",
       "    }\n",
       "</style>\n",
       "<table border=\"1\" class=\"dataframe\">\n",
       "  <thead>\n",
       "    <tr style=\"text-align: right;\">\n",
       "      <th></th>\n",
       "      <th>title</th>\n",
       "      <th>genres</th>\n",
       "      <th>movieId</th>\n",
       "      <th>tmdbId</th>\n",
       "      <th>keywords</th>\n",
       "    </tr>\n",
       "  </thead>\n",
       "  <tbody>\n",
       "    <tr>\n",
       "      <th>0</th>\n",
       "      <td>Toy Story</td>\n",
       "      <td>[{'id': 16, 'name': 'Animation'}, {'id': 35, '...</td>\n",
       "      <td>1</td>\n",
       "      <td>862.0</td>\n",
       "      <td>[{'id': 931, 'name': 'jealousy'}, {'id': 4290,...</td>\n",
       "    </tr>\n",
       "    <tr>\n",
       "      <th>1</th>\n",
       "      <td>Jumanji</td>\n",
       "      <td>[{'id': 12, 'name': 'Adventure'}, {'id': 14, '...</td>\n",
       "      <td>2</td>\n",
       "      <td>8844.0</td>\n",
       "      <td>[{'id': 10090, 'name': 'board game'}, {'id': 1...</td>\n",
       "    </tr>\n",
       "    <tr>\n",
       "      <th>2</th>\n",
       "      <td>Grumpier Old Men</td>\n",
       "      <td>[{'id': 10749, 'name': 'Romance'}, {'id': 35, ...</td>\n",
       "      <td>3</td>\n",
       "      <td>15602.0</td>\n",
       "      <td>[{'id': 1495, 'name': 'fishing'}, {'id': 12392...</td>\n",
       "    </tr>\n",
       "    <tr>\n",
       "      <th>3</th>\n",
       "      <td>Waiting to Exhale</td>\n",
       "      <td>[{'id': 35, 'name': 'Comedy'}, {'id': 18, 'nam...</td>\n",
       "      <td>4</td>\n",
       "      <td>31357.0</td>\n",
       "      <td>[{'id': 818, 'name': 'based on novel'}, {'id':...</td>\n",
       "    </tr>\n",
       "    <tr>\n",
       "      <th>4</th>\n",
       "      <td>Father of the Bride Part II</td>\n",
       "      <td>[{'id': 35, 'name': 'Comedy'}]</td>\n",
       "      <td>5</td>\n",
       "      <td>11862.0</td>\n",
       "      <td>[{'id': 1009, 'name': 'baby'}, {'id': 1599, 'n...</td>\n",
       "    </tr>\n",
       "  </tbody>\n",
       "</table>\n",
       "</div>"
      ],
      "text/plain": [
       "                         title  \\\n",
       "0                    Toy Story   \n",
       "1                      Jumanji   \n",
       "2             Grumpier Old Men   \n",
       "3            Waiting to Exhale   \n",
       "4  Father of the Bride Part II   \n",
       "\n",
       "                                              genres  movieId   tmdbId  \\\n",
       "0  [{'id': 16, 'name': 'Animation'}, {'id': 35, '...        1    862.0   \n",
       "1  [{'id': 12, 'name': 'Adventure'}, {'id': 14, '...        2   8844.0   \n",
       "2  [{'id': 10749, 'name': 'Romance'}, {'id': 35, ...        3  15602.0   \n",
       "3  [{'id': 35, 'name': 'Comedy'}, {'id': 18, 'nam...        4  31357.0   \n",
       "4                     [{'id': 35, 'name': 'Comedy'}]        5  11862.0   \n",
       "\n",
       "                                            keywords  \n",
       "0  [{'id': 931, 'name': 'jealousy'}, {'id': 4290,...  \n",
       "1  [{'id': 10090, 'name': 'board game'}, {'id': 1...  \n",
       "2  [{'id': 1495, 'name': 'fishing'}, {'id': 12392...  \n",
       "3  [{'id': 818, 'name': 'based on novel'}, {'id':...  \n",
       "4  [{'id': 1009, 'name': 'baby'}, {'id': 1599, 'n...  "
      ]
     },
     "execution_count": 11,
     "metadata": {},
     "output_type": "execute_result"
    }
   ],
   "source": [
    "movies = movies.merge(keywords, left_on='tmdbId', right_on='id')\n",
    "movies.drop(['id'], axis=1, inplace=True)\n",
    "movies.head()"
   ]
  },
  {
   "cell_type": "code",
   "execution_count": 12,
   "id": "500639bd",
   "metadata": {},
   "outputs": [],
   "source": [
    "def cleans(row):\n",
    "    if len(row)>0:\n",
    "        return str([(i['name'].lower().strip()) for i in row])\n",
    "    return str(row)\n",
    "            \n",
    "#genres and keywords coulumn are of type str and json format.. we get the genre names in a list and store it in str format again\n",
    "movies.keywords = movies.keywords.apply(lambda x: cleans(ast.literal_eval(x)))\n",
    "movies.genres = movies.genres.apply(lambda x: cleans(ast.literal_eval(x)))  "
   ]
  },
  {
   "cell_type": "code",
   "execution_count": 13,
   "id": "87e23d81",
   "metadata": {
    "colab": {
     "base_uri": "https://localhost:8080/",
     "height": 461
    },
    "id": "1bf59287",
    "outputId": "680772f5-f188-4cb0-b6ed-286f556862b2"
   },
   "outputs": [
    {
     "name": "stdout",
     "output_type": "stream",
     "text": [
      "(99810, 8)\n"
     ]
    },
    {
     "data": {
      "text/html": [
       "<div>\n",
       "<style scoped>\n",
       "    .dataframe tbody tr th:only-of-type {\n",
       "        vertical-align: middle;\n",
       "    }\n",
       "\n",
       "    .dataframe tbody tr th {\n",
       "        vertical-align: top;\n",
       "    }\n",
       "\n",
       "    .dataframe thead th {\n",
       "        text-align: right;\n",
       "    }\n",
       "</style>\n",
       "<table border=\"1\" class=\"dataframe\">\n",
       "  <thead>\n",
       "    <tr style=\"text-align: right;\">\n",
       "      <th></th>\n",
       "      <th>title</th>\n",
       "      <th>genres</th>\n",
       "      <th>movieId</th>\n",
       "      <th>tmdbId</th>\n",
       "      <th>keywords</th>\n",
       "      <th>userId</th>\n",
       "      <th>rating</th>\n",
       "      <th>timestamp</th>\n",
       "    </tr>\n",
       "  </thead>\n",
       "  <tbody>\n",
       "    <tr>\n",
       "      <th>0</th>\n",
       "      <td>Se7en</td>\n",
       "      <td>['crime', 'mystery', 'thriller']</td>\n",
       "      <td>47</td>\n",
       "      <td>807.0</td>\n",
       "      <td>['self-fulfilling prophecy', 'detective', 's.w...</td>\n",
       "      <td>383</td>\n",
       "      <td>5.0</td>\n",
       "      <td>789652009</td>\n",
       "    </tr>\n",
       "    <tr>\n",
       "      <th>1</th>\n",
       "      <td>A Fish Called Wanda</td>\n",
       "      <td>['comedy', 'crime']</td>\n",
       "      <td>1079</td>\n",
       "      <td>623.0</td>\n",
       "      <td>['robbery', 'infidelity', 'cheating', 'heart a...</td>\n",
       "      <td>383</td>\n",
       "      <td>3.0</td>\n",
       "      <td>789652009</td>\n",
       "    </tr>\n",
       "    <tr>\n",
       "      <th>2</th>\n",
       "      <td>Get Shorty</td>\n",
       "      <td>['comedy', 'thriller', 'crime']</td>\n",
       "      <td>21</td>\n",
       "      <td>8012.0</td>\n",
       "      <td>['gambling', 'miami', 'based on novel', 'job',...</td>\n",
       "      <td>383</td>\n",
       "      <td>3.0</td>\n",
       "      <td>789652009</td>\n",
       "    </tr>\n",
       "    <tr>\n",
       "      <th>3</th>\n",
       "      <td>Shanghai Triad</td>\n",
       "      <td>['drama', 'crime']</td>\n",
       "      <td>30</td>\n",
       "      <td>37557.0</td>\n",
       "      <td>['servant', 'cabaret', 'shanghai', 'diva', 'un...</td>\n",
       "      <td>409</td>\n",
       "      <td>5.0</td>\n",
       "      <td>828212412</td>\n",
       "    </tr>\n",
       "    <tr>\n",
       "      <th>4</th>\n",
       "      <td>Carrington</td>\n",
       "      <td>['history', 'drama', 'romance']</td>\n",
       "      <td>35</td>\n",
       "      <td>47018.0</td>\n",
       "      <td>['england', 'painter', 'conscientious objector...</td>\n",
       "      <td>409</td>\n",
       "      <td>4.0</td>\n",
       "      <td>828212412</td>\n",
       "    </tr>\n",
       "  </tbody>\n",
       "</table>\n",
       "</div>"
      ],
      "text/plain": [
       "                 title                            genres  movieId   tmdbId  \\\n",
       "0                Se7en  ['crime', 'mystery', 'thriller']       47    807.0   \n",
       "1  A Fish Called Wanda               ['comedy', 'crime']     1079    623.0   \n",
       "2           Get Shorty   ['comedy', 'thriller', 'crime']       21   8012.0   \n",
       "3       Shanghai Triad                ['drama', 'crime']       30  37557.0   \n",
       "4           Carrington   ['history', 'drama', 'romance']       35  47018.0   \n",
       "\n",
       "                                            keywords  userId  rating  \\\n",
       "0  ['self-fulfilling prophecy', 'detective', 's.w...     383     5.0   \n",
       "1  ['robbery', 'infidelity', 'cheating', 'heart a...     383     3.0   \n",
       "2  ['gambling', 'miami', 'based on novel', 'job',...     383     3.0   \n",
       "3  ['servant', 'cabaret', 'shanghai', 'diva', 'un...     409     5.0   \n",
       "4  ['england', 'painter', 'conscientious objector...     409     4.0   \n",
       "\n",
       "   timestamp  \n",
       "0  789652009  \n",
       "1  789652009  \n",
       "2  789652009  \n",
       "3  828212412  \n",
       "4  828212412  "
      ]
     },
     "execution_count": 13,
     "metadata": {},
     "output_type": "execute_result"
    }
   ],
   "source": [
    "if not os.path.isfile(path_+'movie_ratings.csv'):\n",
    "    movie_ratings = movies.merge(ratings, on='movieId')\n",
    "    movie_ratings.sort_values('timestamp', inplace=True)\n",
    "    movie_ratings.to_csv(path_+'movie_ratings.csv', index=False)\n",
    "movie_ratings = pd.read_csv(path_+'movie_ratings.csv')\n",
    "print(movie_ratings.shape)\n",
    "movie_ratings.head()"
   ]
  },
  {
   "cell_type": "markdown",
   "id": "70203dfb",
   "metadata": {
    "id": "70203dfb"
   },
   "source": [
    "## 2.3 Basic Statistics Ratings "
   ]
  },
  {
   "cell_type": "code",
   "execution_count": 14,
   "id": "e91a7d59",
   "metadata": {
    "colab": {
     "base_uri": "https://localhost:8080/"
    },
    "id": "e91a7d59",
    "outputId": "a6e881bc-6445-4572-858f-46af16e8bf2b",
    "scrolled": true
   },
   "outputs": [
    {
     "data": {
      "text/plain": [
       "count    100004.000000\n",
       "mean          3.543608\n",
       "std           1.058064\n",
       "min           0.500000\n",
       "25%           3.000000\n",
       "50%           4.000000\n",
       "75%           4.000000\n",
       "max           5.000000\n",
       "Name: rating, dtype: float64"
      ]
     },
     "execution_count": 14,
     "metadata": {},
     "output_type": "execute_result"
    }
   ],
   "source": [
    "ratings.sort_values('timestamp', inplace=True)\n",
    "ratings.rating.describe()"
   ]
  },
  {
   "cell_type": "markdown",
   "id": "31fb612b",
   "metadata": {
    "id": "31fb612b"
   },
   "source": [
    "## 2.4 Train Test Temporal Split"
   ]
  },
  {
   "cell_type": "code",
   "execution_count": 15,
   "id": "422df94c",
   "metadata": {
    "colab": {
     "base_uri": "https://localhost:8080/"
    },
    "id": "f8d17e39",
    "outputId": "6a68283e-369b-48d1-df2b-edb157f2332b"
   },
   "outputs": [
    {
     "name": "stdout",
     "output_type": "stream",
     "text": [
      "(79848, 8)\n",
      "(19962, 8)\n"
     ]
    }
   ],
   "source": [
    "#X_train, X_test = train_test_split(movie_ratings, test_size=0.05, shuffle=False)\n",
    "if not (os.path.isfile(path_+'xtrain.csv') and os.path.isfile(path_+'xtest.csv')): \n",
    "    movie_ratings[:int(len(movie_ratings)*0.8)].to_csv(path_+'xtrain.csv', index=False)\n",
    "    movie_ratings[int(len(movie_ratings)*0.8):].to_csv(path_+'xtest.csv', index=False)\n",
    "\n",
    "X_train = pd.read_csv(path_+'xtrain.csv')\n",
    "X_test = pd.read_csv(path_+'xtest.csv')\n",
    "print(X_train.shape)\n",
    "print(X_test.shape)"
   ]
  },
  {
   "cell_type": "markdown",
   "id": "835ac7fb",
   "metadata": {
    "id": "835ac7fb"
   },
   "source": [
    "## 2.5 Cold Start Problem"
   ]
  },
  {
   "cell_type": "code",
   "execution_count": 16,
   "id": "5ffe6c1f",
   "metadata": {
    "colab": {
     "base_uri": "https://localhost:8080/"
    },
    "id": "5ffe6c1f",
    "outputId": "aed3a6f3-f856-4da6-bf7e-8b3a77fa9d1a"
   },
   "outputs": [
    {
     "name": "stdout",
     "output_type": "stream",
     "text": [
      "No. of movies in train set: 7328\n",
      "No. of movies in test set: 4732\n",
      "No. of movies common in train and test sets: 3035\n",
      "No. of movies present in train set but not in test set: 4293\n",
      "No. of movies present in test set but not in train set: 1697\n",
      "Percentage of movies present in test but not in train set of all the movies: 18.803324099722992%\n"
     ]
    }
   ],
   "source": [
    "train_movies = set(X_train.movieId.values)\n",
    "test_movies = set(X_test.movieId.values)\n",
    "total_movies = train_movies.union(test_movies)\n",
    "print('No. of movies in train set:', len(train_movies))\n",
    "print('No. of movies in test set:', len(test_movies))\n",
    "print('No. of movies common in train and test sets:', len(train_movies.intersection(test_movies)))\n",
    "print('No. of movies present in train set but not in test set:', len(train_movies-test_movies))\n",
    "print('No. of movies present in test set but not in train set:', len(test_movies-train_movies))\n",
    "print('Percentage of movies present in test but not in train set of all the movies: {}%'.format(len(test_movies-train_movies)/len(total_movies)*100))"
   ]
  },
  {
   "cell_type": "code",
   "execution_count": 17,
   "id": "cc72e224",
   "metadata": {
    "colab": {
     "base_uri": "https://localhost:8080/"
    },
    "id": "cc72e224",
    "outputId": "0fd5f4d1-e379-43e3-e2f2-b53050b8f019"
   },
   "outputs": [
    {
     "name": "stdout",
     "output_type": "stream",
     "text": [
      "No. of users in train set: 546\n",
      "No. of users in test set: 148\n",
      "No. of users common in train and test sets: 23\n",
      "No. of users present in train set but not in test set: 523\n",
      "No. of users present in test set but not in train set: 125\n",
      "Percentage of users present in test but not in train set of all the users: 18.628912071535023%\n"
     ]
    }
   ],
   "source": [
    "train_users = set(X_train.userId.values)\n",
    "test_users = set(X_test.userId.values)\n",
    "total_users = train_users.union(test_users)\n",
    "print('No. of users in train set:', len(train_users))\n",
    "print('No. of users in test set:', len(test_users))\n",
    "print('No. of users common in train and test sets:', len(train_users.intersection(test_users)))\n",
    "print('No. of users present in train set but not in test set:', len(train_users-test_users))\n",
    "print('No. of users present in test set but not in train set:', len(test_users-train_users))\n",
    "print('Percentage of users present in test but not in train set of all the users: {}%'.format(len(test_users-train_users)/len(total_users)*100))"
   ]
  },
  {
   "cell_type": "markdown",
   "id": "0a16325f",
   "metadata": {},
   "source": [
    "> Roughly same percentage of movies and users are new in the test dataset"
   ]
  },
  {
   "cell_type": "code",
   "execution_count": 18,
   "id": "250ee54c",
   "metadata": {},
   "outputs": [],
   "source": [
    "if not (os.path.isfile(path_+'train_movies.csv') and os.path.isfile(path_+'test_movies.csv')):\n",
    "    movies[movies.movieId.isin(train_movies)].to_csv(path_+'train_movies.csv',index=False)\n",
    "    movies[movies.movieId.isin(test_movies)].to_csv(path_+'test_movies.csv',index=False)"
   ]
  },
  {
   "cell_type": "code",
   "execution_count": 19,
   "id": "bc79e8a3",
   "metadata": {
    "colab": {
     "base_uri": "https://localhost:8080/",
     "height": 320
    },
    "id": "bc79e8a3",
    "outputId": "e06de73f-5282-41cf-a862-2862f8088b15"
   },
   "outputs": [
    {
     "data": {
      "text/html": [
       "<div>\n",
       "<style scoped>\n",
       "    .dataframe tbody tr th:only-of-type {\n",
       "        vertical-align: middle;\n",
       "    }\n",
       "\n",
       "    .dataframe tbody tr th {\n",
       "        vertical-align: top;\n",
       "    }\n",
       "\n",
       "    .dataframe thead th {\n",
       "        text-align: right;\n",
       "    }\n",
       "</style>\n",
       "<table border=\"1\" class=\"dataframe\">\n",
       "  <thead>\n",
       "    <tr style=\"text-align: right;\">\n",
       "      <th></th>\n",
       "      <th>title</th>\n",
       "      <th>genres</th>\n",
       "      <th>movieId</th>\n",
       "      <th>tmdbId</th>\n",
       "      <th>keywords</th>\n",
       "    </tr>\n",
       "  </thead>\n",
       "  <tbody>\n",
       "    <tr>\n",
       "      <th>0</th>\n",
       "      <td>Toy Story</td>\n",
       "      <td>['animation', 'comedy', 'family']</td>\n",
       "      <td>1</td>\n",
       "      <td>862.0</td>\n",
       "      <td>['jealousy', 'toy', 'boy', 'friendship', 'frie...</td>\n",
       "    </tr>\n",
       "    <tr>\n",
       "      <th>1</th>\n",
       "      <td>Jumanji</td>\n",
       "      <td>['adventure', 'fantasy', 'family']</td>\n",
       "      <td>2</td>\n",
       "      <td>8844.0</td>\n",
       "      <td>['board game', 'disappearance', \"based on chil...</td>\n",
       "    </tr>\n",
       "    <tr>\n",
       "      <th>2</th>\n",
       "      <td>Grumpier Old Men</td>\n",
       "      <td>['romance', 'comedy']</td>\n",
       "      <td>3</td>\n",
       "      <td>15602.0</td>\n",
       "      <td>['fishing', 'best friend', 'duringcreditssting...</td>\n",
       "    </tr>\n",
       "    <tr>\n",
       "      <th>3</th>\n",
       "      <td>Waiting to Exhale</td>\n",
       "      <td>['comedy', 'drama', 'romance']</td>\n",
       "      <td>4</td>\n",
       "      <td>31357.0</td>\n",
       "      <td>['based on novel', 'interracial relationship',...</td>\n",
       "    </tr>\n",
       "    <tr>\n",
       "      <th>4</th>\n",
       "      <td>Father of the Bride Part II</td>\n",
       "      <td>['comedy']</td>\n",
       "      <td>5</td>\n",
       "      <td>11862.0</td>\n",
       "      <td>['baby', 'midlife crisis', 'confidence', 'agin...</td>\n",
       "    </tr>\n",
       "  </tbody>\n",
       "</table>\n",
       "</div>"
      ],
      "text/plain": [
       "                         title                              genres  movieId  \\\n",
       "0                    Toy Story   ['animation', 'comedy', 'family']        1   \n",
       "1                      Jumanji  ['adventure', 'fantasy', 'family']        2   \n",
       "2             Grumpier Old Men               ['romance', 'comedy']        3   \n",
       "3            Waiting to Exhale      ['comedy', 'drama', 'romance']        4   \n",
       "4  Father of the Bride Part II                          ['comedy']        5   \n",
       "\n",
       "    tmdbId                                           keywords  \n",
       "0    862.0  ['jealousy', 'toy', 'boy', 'friendship', 'frie...  \n",
       "1   8844.0  ['board game', 'disappearance', \"based on chil...  \n",
       "2  15602.0  ['fishing', 'best friend', 'duringcreditssting...  \n",
       "3  31357.0  ['based on novel', 'interracial relationship',...  \n",
       "4  11862.0  ['baby', 'midlife crisis', 'confidence', 'agin...  "
      ]
     },
     "execution_count": 19,
     "metadata": {},
     "output_type": "execute_result"
    }
   ],
   "source": [
    "train_movies = pd.read_csv(path_+'train_movies.csv')\n",
    "train_movies.head()"
   ]
  },
  {
   "cell_type": "code",
   "execution_count": 20,
   "id": "521a0580",
   "metadata": {
    "colab": {
     "base_uri": "https://localhost:8080/",
     "height": 320
    },
    "id": "521a0580",
    "outputId": "f0461120-5d75-4035-a636-8841bd6e8e23",
    "scrolled": true
   },
   "outputs": [
    {
     "data": {
      "text/html": [
       "<div>\n",
       "<style scoped>\n",
       "    .dataframe tbody tr th:only-of-type {\n",
       "        vertical-align: middle;\n",
       "    }\n",
       "\n",
       "    .dataframe tbody tr th {\n",
       "        vertical-align: top;\n",
       "    }\n",
       "\n",
       "    .dataframe thead th {\n",
       "        text-align: right;\n",
       "    }\n",
       "</style>\n",
       "<table border=\"1\" class=\"dataframe\">\n",
       "  <thead>\n",
       "    <tr style=\"text-align: right;\">\n",
       "      <th></th>\n",
       "      <th>title</th>\n",
       "      <th>genres</th>\n",
       "      <th>movieId</th>\n",
       "      <th>tmdbId</th>\n",
       "      <th>keywords</th>\n",
       "    </tr>\n",
       "  </thead>\n",
       "  <tbody>\n",
       "    <tr>\n",
       "      <th>0</th>\n",
       "      <td>Toy Story</td>\n",
       "      <td>['animation', 'comedy', 'family']</td>\n",
       "      <td>1</td>\n",
       "      <td>862.0</td>\n",
       "      <td>['jealousy', 'toy', 'boy', 'friendship', 'frie...</td>\n",
       "    </tr>\n",
       "    <tr>\n",
       "      <th>1</th>\n",
       "      <td>Jumanji</td>\n",
       "      <td>['adventure', 'fantasy', 'family']</td>\n",
       "      <td>2</td>\n",
       "      <td>8844.0</td>\n",
       "      <td>['board game', 'disappearance', \"based on chil...</td>\n",
       "    </tr>\n",
       "    <tr>\n",
       "      <th>2</th>\n",
       "      <td>Grumpier Old Men</td>\n",
       "      <td>['romance', 'comedy']</td>\n",
       "      <td>3</td>\n",
       "      <td>15602.0</td>\n",
       "      <td>['fishing', 'best friend', 'duringcreditssting...</td>\n",
       "    </tr>\n",
       "    <tr>\n",
       "      <th>3</th>\n",
       "      <td>Father of the Bride Part II</td>\n",
       "      <td>['comedy']</td>\n",
       "      <td>5</td>\n",
       "      <td>11862.0</td>\n",
       "      <td>['baby', 'midlife crisis', 'confidence', 'agin...</td>\n",
       "    </tr>\n",
       "    <tr>\n",
       "      <th>4</th>\n",
       "      <td>Heat</td>\n",
       "      <td>['action', 'crime', 'drama', 'thriller']</td>\n",
       "      <td>6</td>\n",
       "      <td>949.0</td>\n",
       "      <td>['robbery', 'detective', 'bank', 'obsession', ...</td>\n",
       "    </tr>\n",
       "  </tbody>\n",
       "</table>\n",
       "</div>"
      ],
      "text/plain": [
       "                         title                                    genres  \\\n",
       "0                    Toy Story         ['animation', 'comedy', 'family']   \n",
       "1                      Jumanji        ['adventure', 'fantasy', 'family']   \n",
       "2             Grumpier Old Men                     ['romance', 'comedy']   \n",
       "3  Father of the Bride Part II                                ['comedy']   \n",
       "4                         Heat  ['action', 'crime', 'drama', 'thriller']   \n",
       "\n",
       "   movieId   tmdbId                                           keywords  \n",
       "0        1    862.0  ['jealousy', 'toy', 'boy', 'friendship', 'frie...  \n",
       "1        2   8844.0  ['board game', 'disappearance', \"based on chil...  \n",
       "2        3  15602.0  ['fishing', 'best friend', 'duringcreditssting...  \n",
       "3        5  11862.0  ['baby', 'midlife crisis', 'confidence', 'agin...  \n",
       "4        6    949.0  ['robbery', 'detective', 'bank', 'obsession', ...  "
      ]
     },
     "execution_count": 20,
     "metadata": {},
     "output_type": "execute_result"
    }
   ],
   "source": [
    "test_movies = pd.read_csv(path_+'test_movies.csv')\n",
    "test_movies.head()"
   ]
  },
  {
   "cell_type": "markdown",
   "id": "f25b9164",
   "metadata": {
    "id": "f25b9164"
   },
   "source": [
    "## 2.6 Genre feature analysis"
   ]
  },
  {
   "cell_type": "code",
   "execution_count": 29,
   "id": "a83851eb",
   "metadata": {
    "id": "a83851eb",
    "outputId": "66d6c08b-53f6-4d85-e39f-350841dfa96b"
   },
   "outputs": [
    {
     "name": "stdout",
     "output_type": "stream",
     "text": [
      "Total genres: 20 \n",
      " ['family', 'documentary', 'fantasy', 'drama', 'tv movie', 'animation', 'action', 'romance', 'crime', 'history', 'western', 'music', 'war', 'mystery', 'science fiction', 'comedy', 'adventure', 'horror', 'foreign', 'thriller']\n"
     ]
    }
   ],
   "source": [
    "genres = set()\n",
    "for i in train_movies.genres:\n",
    "    genres.update(ast.literal_eval(i))\n",
    "genres=list(genres)\n",
    "print('Total genres:', len(genres), '\\n', genres)"
   ]
  },
  {
   "cell_type": "code",
   "execution_count": 30,
   "id": "3253f7ee",
   "metadata": {
    "id": "3253f7ee",
    "outputId": "825f6197-91d9-4f2d-cb49-dc50202bfe61",
    "scrolled": false
   },
   "outputs": [
    {
     "data": {
      "image/png": "[encoded data removed]",
      "text/plain": [
       "<Figure size 640x480 with 1 Axes>"
      ]
     },
     "metadata": {},
     "output_type": "display_data"
    }
   ],
   "source": [
    "dist = []\n",
    "den = len(train_movies)\n",
    "for i in genres:\n",
    "    v = len(train_movies[train_movies.genres.str.match('.*'+i+'.*')==True])/den*100\n",
    "    dist.append((v,i))\n",
    "dist = pd.DataFrame(dist).sort_values(0)\n",
    "\n",
    "plt.barh(dist[1], dist[0])\n",
    "plt.title('Distribution of movies across different Genres')\n",
    "plt.xlabel('Percentage of movies')\n",
    "plt.ylabel('Genres')\n",
    "plt.show()"
   ]
  },
  {
   "cell_type": "markdown",
   "id": "a9731d97",
   "metadata": {},
   "source": [
    "> More movies belong to genres like drama, comedy, thriller, etc than others"
   ]
  },
  {
   "cell_type": "code",
   "execution_count": 31,
   "id": "b3790ba9",
   "metadata": {},
   "outputs": [
    {
     "data": {
      "text/plain": [
       "{'tv movie': 3.8568421052631576,\n",
       " 'foreign': 0.9160000000000001,\n",
       " 'western': 0.4852980132450331,\n",
       " 'war': 0.3028099173553719,\n",
       " 'history': 0.2544444444444444,\n",
       " 'animation': 0.24756756756756756,\n",
       " 'documentary': 0.2341214057507987,\n",
       " 'music': 0.19083333333333335,\n",
       " 'mystery': 0.13179856115107913,\n",
       " 'fantasy': 0.12172757475083056,\n",
       " 'horror': 0.10574314574314575,\n",
       " 'science fiction': 0.1054388489208633,\n",
       " 'family': 0.10350282485875706,\n",
       " 'adventure': 0.07515897435897435,\n",
       " 'crime': 0.06855004677268477,\n",
       " 'action': 0.051533052039381154,\n",
       " 'romance': 0.04585732165206508,\n",
       " 'thriller': 0.044331518451300664,\n",
       " 'comedy': 0.02645487364620939,\n",
       " 'drama': 0.01891584925141972}"
      ]
     },
     "execution_count": 31,
     "metadata": {},
     "output_type": "execute_result"
    }
   ],
   "source": [
    "# For graph based recommendation, we use these values for giving weightage\n",
    "# By taking inverse of the proportion of movies belonging to a certain genre, \n",
    "# we are giving more importance to less frequent genres and vice versa\n",
    "dist[0] = dist[0].apply(lambda x: x**(-1))\n",
    "weights_genre = dict(zip(list(dist[1].values),list(dist[0].values)))\n",
    "weights_genre"
   ]
  },
  {
   "cell_type": "markdown",
   "id": "dcd39d5a",
   "metadata": {},
   "source": [
    "## 2.7 Keywords feature analysis"
   ]
  },
  {
   "cell_type": "code",
   "execution_count": 32,
   "id": "2d780dac",
   "metadata": {},
   "outputs": [
    {
     "name": "stdout",
     "output_type": "stream",
     "text": [
      "Total keywords: 11611\n"
     ]
    },
    {
     "data": {
      "text/plain": [
       "['clumsiness',\n",
       " '',\n",
       " 'exhaustion',\n",
       " 'archipelago',\n",
       " 'death row',\n",
       " 'small town thieves',\n",
       " 'torture',\n",
       " 'crime spree',\n",
       " 'monolog',\n",
       " 'electroconvulsive therapy']"
      ]
     },
     "execution_count": 32,
     "metadata": {},
     "output_type": "execute_result"
    }
   ],
   "source": [
    "keywords = set()\n",
    "for i in train_movies.keywords:\n",
    "    keywords.update(ast.literal_eval(i))\n",
    "keywords=list(keywords)\n",
    "print('Total keywords:', len(keywords))\n",
    "keywords[:10]"
   ]
  },
  {
   "cell_type": "code",
   "execution_count": 33,
   "id": "cf59fb63",
   "metadata": {},
   "outputs": [
    {
     "name": "stderr",
     "output_type": "stream",
     "text": [
      "100%|███████████████████████████████████████████████████████████████████████████| 11611/11611 [01:21<00:00, 142.48it/s]\n"
     ]
    },
    {
     "data": {
      "image/png": "[encoded data removed]",
      "text/plain": [
       "<Figure size 640x480 with 1 Axes>"
      ]
     },
     "metadata": {},
     "output_type": "display_data"
    }
   ],
   "source": [
    "dist = []\n",
    "den = len(train_movies)\n",
    "for i in tqdm(keywords):\n",
    "    if i=='':                                                    #empty keyword\n",
    "        continue\n",
    "    v = len(train_movies[train_movies.keywords.str.match('.*'+i+'.*')==True])/den*100\n",
    "    dist.append((v,i))\n",
    "dist = pd.DataFrame(dist).sort_values(0)\n",
    "\n",
    "top = dist[::-1][:20][::-1]\n",
    "plt.barh(top[1], top[0])\n",
    "plt.title('Distribution of movies across top 20 keywords')\n",
    "plt.xlabel('Percentage of movies')\n",
    "plt.ylabel('keywords')\n",
    "plt.show()"
   ]
  },
  {
   "cell_type": "markdown",
   "id": "abb22f2f",
   "metadata": {},
   "source": [
    "> some keywords are more popular than others"
   ]
  },
  {
   "cell_type": "code",
   "execution_count": 34,
   "id": "942ea8e8",
   "metadata": {},
   "outputs": [
    {
     "data": {
      "image/png": "[encoded data removed]",
      "text/plain": [
       "<Figure size 640x480 with 1 Axes>"
      ]
     },
     "metadata": {},
     "output_type": "display_data"
    }
   ],
   "source": [
    "sns.kdeplot(dist, cumulative=True)\n",
    "#plt.title()\n",
    "plt.xlabel('Percentage of keywords')\n",
    "plt.ylabel('Percentage of movies')\n",
    "plt.show()\n",
    "#plt.xticks(np.arange(len(dist)),labels=dist[1])"
   ]
  },
  {
   "cell_type": "markdown",
   "id": "01443868",
   "metadata": {},
   "source": [
    "* Less than 0.5% keywords cover more than 90% movies\n",
    "* It means that most of the keywords are seen very rarely "
   ]
  },
  {
   "cell_type": "code",
   "execution_count": 35,
   "id": "b108d0c9",
   "metadata": {},
   "outputs": [
    {
     "data": {
      "text/plain": [
       "{'middle-earth (tolkien)': 1.0,\n",
       " 'los angeles international airport (lax)': 1.0,\n",
       " 'columbia broadcasting system (cbs)': 1.0,\n",
       " 'son (musikstil)': 1.0,\n",
       " 'tough \\xa0girl': 1.0,\n",
       " 'multiple chemical sensitivity (mcs)': 1.0,\n",
       " 'national security agency (nsa)': 1.0,\n",
       " 'lover (female)': 1.0,\n",
       " 'turning into a vampire': 0.9865374259558428,\n",
       " 'wood chopping': 0.9865374259558428,\n",
       " 'feudal japan': 0.9865374259558428,\n",
       " 'singles bar': 0.9865374259558428,\n",
       " 'plant food': 0.9865374259558428,\n",
       " 'killing a dog': 0.9865374259558428,\n",
       " 'toad': 0.9865374259558428,\n",
       " 'decorum': 0.9865374259558428,\n",
       " 'tunesia': 0.9865374259558428,\n",
       " 'confidence artist': 0.9865374259558428,\n",
       " 'magic mushroom': 0.9865374259558428,\n",
       " 'swimmer': 0.9865374259558428,\n",
       " 'red square': 0.9865374259558428,\n",
       " \"homer's iliad\": 0.9865374259558428,\n",
       " 'formentera': 0.9865374259558428,\n",
       " 'jack of spades': 0.9865374259558428,\n",
       " 'dark horse comics': 0.9865374259558428,\n",
       " 'wedding chapel': 0.9865374259558428,\n",
       " 'johnny cash': 0.9865374259558428,\n",
       " 'leaving home': 0.9865374259558428,\n",
       " 'evil priest': 0.9865374259558428,\n",
       " 'elitism': 0.9865374259558428,\n",
       " 'hebrides': 0.9865374259558428,\n",
       " 'female police officer': 0.9865374259558428,\n",
       " 'falling elevator': 0.9865374259558428,\n",
       " 'millenium': 0.9865374259558428,\n",
       " 'prisoner on the run': 0.9865374259558428,\n",
       " 'film gris': 0.9865374259558428,\n",
       " 'broadway director': 0.9865374259558428,\n",
       " 'foursome': 0.9865374259558428,\n",
       " 'grayscale': 0.9865374259558428,\n",
       " 'letter opener': 0.9865374259558428,\n",
       " 'car explosion': 0.9865374259558428,\n",
       " 'parole board': 0.9865374259558428,\n",
       " 'head stomp': 0.9865374259558428,\n",
       " 'normality': 0.9865374259558428,\n",
       " 'exiled prince': 0.9865374259558428,\n",
       " 'power abuse': 0.9865374259558428,\n",
       " 'print shop': 0.9865374259558428,\n",
       " 'storem': 0.9865374259558428,\n",
       " 'scopes monkey trial': 0.9865374259558428,\n",
       " 'police badge': 0.9865374259558428,\n",
       " 'paul mccartney': 0.9865374259558428,\n",
       " 'gender bender': 0.9865374259558428,\n",
       " 'water gun': 0.9865374259558428,\n",
       " 'showgirl': 0.9865374259558428,\n",
       " 'exercise machine': 0.9865374259558428,\n",
       " 'gun battle': 0.9865374259558428,\n",
       " 'resort hotel': 0.9865374259558428,\n",
       " 'freckles': 0.9865374259558428,\n",
       " 'military crime': 0.9865374259558428,\n",
       " 'two strip technicolor': 0.9865374259558428,\n",
       " 'blase': 0.9865374259558428,\n",
       " 'sexologist': 0.9865374259558428,\n",
       " 'human heart': 0.9865374259558428,\n",
       " 'music rehearsal': 0.9865374259558428,\n",
       " 'terraforming': 0.9865374259558428,\n",
       " 'komplexe': 0.9865374259558428,\n",
       " 'japanese food': 0.9865374259558428,\n",
       " 'crisis of conscience': 0.9865374259558428,\n",
       " 'pomp': 0.9865374259558428,\n",
       " 'testicles': 0.9865374259558428,\n",
       " 'losing money': 0.9865374259558428,\n",
       " 'jason voorhees': 0.9865374259558428,\n",
       " 'galicia': 0.9865374259558428,\n",
       " 'border patrol': 0.9865374259558428,\n",
       " 'history teacher': 0.9865374259558428,\n",
       " 'banana peel': 0.9865374259558428,\n",
       " 'witch hunter': 0.9865374259558428,\n",
       " 'sweatshop': 0.9865374259558428,\n",
       " 'h. r. giger': 0.9865374259558428,\n",
       " 'led zeppelin': 0.9865374259558428,\n",
       " 'mine car': 0.9865374259558428,\n",
       " 'vernissage': 0.9865374259558428,\n",
       " 'psychotherapist': 0.9865374259558428,\n",
       " 'blackbox': 0.9865374259558428,\n",
       " 'halfway house': 0.9865374259558428,\n",
       " 'silicon valley': 0.9865374259558428,\n",
       " 'championship': 0.9865374259558428,\n",
       " 'train wreck': 0.9865374259558428,\n",
       " \"martha's vineyard\": 0.9865374259558428,\n",
       " 'sears tower chicago': 0.9865374259558428,\n",
       " 'gay lead character': 0.9865374259558428,\n",
       " 'magnum': 0.9865374259558428,\n",
       " 'character is subject of comic': 0.9865374259558428,\n",
       " 'music hall': 0.9865374259558428,\n",
       " 'matriarchy': 0.9865374259558428,\n",
       " 'oil well': 0.9865374259558428,\n",
       " 'weeds': 0.9865374259558428,\n",
       " 'bird attack': 0.9865374259558428,\n",
       " 'scandinavian': 0.9865374259558428,\n",
       " 'dancing corpse': 0.9865374259558428,\n",
       " 'seven years war': 0.9865374259558428,\n",
       " 'punch and judy': 0.9865374259558428,\n",
       " 'changing history': 0.9865374259558428,\n",
       " 'encylopedia': 0.9865374259558428,\n",
       " 'wild horse': 0.9865374259558428,\n",
       " 'baader-meinhof group': 0.9865374259558428,\n",
       " 'shot repeatedly': 0.9865374259558428,\n",
       " 'handprint': 0.9865374259558428,\n",
       " 'aspiring nun': 0.9865374259558428,\n",
       " 'captain america': 0.9865374259558428,\n",
       " 'suicide by gunshot': 0.9865374259558428,\n",
       " 'orphan girl': 0.9865374259558428,\n",
       " 'old age': 0.9865374259558428,\n",
       " 'kayak': 0.9865374259558428,\n",
       " 'macedonia': 0.9865374259558428,\n",
       " 'playing pool': 0.9865374259558428,\n",
       " 'virgin mary': 0.9865374259558428,\n",
       " 'streetcar': 0.9865374259558428,\n",
       " 'longshoreman': 0.9865374259558428,\n",
       " 'birth defect': 0.9865374259558428,\n",
       " 'unicorn': 0.9865374259558428,\n",
       " 'fletch': 0.9865374259558428,\n",
       " 'riding lawn mower': 0.9865374259558428,\n",
       " 'fake blindness': 0.9865374259558428,\n",
       " 'biochemist': 0.9865374259558428,\n",
       " 'held against will': 0.9865374259558428,\n",
       " 'pianosa': 0.9865374259558428,\n",
       " 'stallion': 0.9865374259558428,\n",
       " 'lumberjack': 0.9865374259558428,\n",
       " 'pikey': 0.9865374259558428,\n",
       " 'trophy wife': 0.9865374259558428,\n",
       " 'possessive man': 0.9865374259558428,\n",
       " 'late wife': 0.9865374259558428,\n",
       " 'blood sample': 0.9865374259558428,\n",
       " 'tennis player': 0.9865374259558428,\n",
       " 'brontosaurus': 0.9865374259558428,\n",
       " 'world trade organisation': 0.9865374259558428,\n",
       " 'modesty': 0.9865374259558428,\n",
       " 'mentor protégé relationship': 0.9865374259558428,\n",
       " 'breaking mirror': 0.9865374259558428,\n",
       " 'deification': 0.9865374259558428,\n",
       " 'spear gun': 0.9865374259558428,\n",
       " 'new baby': 0.9865374259558428,\n",
       " 'murder of son': 0.9865374259558428,\n",
       " 'sequoia': 0.9865374259558428,\n",
       " 'hope chest': 0.9865374259558428,\n",
       " 'professional assassin': 0.9865374259558428,\n",
       " 'death in childbirth': 0.9865374259558428,\n",
       " 'brumby': 0.9865374259558428,\n",
       " 'recuperation': 0.9865374259558428,\n",
       " 'maid uniform': 0.9865374259558428,\n",
       " 'organized shipwrecking': 0.9865374259558428,\n",
       " 'neue frau': 0.9865374259558428,\n",
       " 'team building': 0.9865374259558428,\n",
       " 'gay parent': 0.9865374259558428,\n",
       " 'iraqi': 0.9865374259558428,\n",
       " 'thirty something': 0.9865374259558428,\n",
       " 'checks and balances': 0.9865374259558428,\n",
       " 'criminal investigation': 0.9865374259558428,\n",
       " 'brown bear': 0.9865374259558428,\n",
       " 'minister for education': 0.9865374259558428,\n",
       " 'death of boyfriend': 0.9865374259558428,\n",
       " 'innocent': 0.9865374259558428,\n",
       " 'chatter box': 0.9865374259558428,\n",
       " 'muhammad ali': 0.9865374259558428,\n",
       " 'highschool kids': 0.9865374259558428,\n",
       " 'nosebleed': 0.9865374259558428,\n",
       " 'marcus square': 0.9865374259558428,\n",
       " 'junior high school': 0.9865374259558428,\n",
       " 'prom night': 0.9865374259558428,\n",
       " 'condominium': 0.9865374259558428,\n",
       " 'nsa agent': 0.9865374259558428,\n",
       " 'secretary of defense': 0.9865374259558428,\n",
       " 'missing pet': 0.9865374259558428,\n",
       " 'frankfurt/oder': 0.9865374259558428,\n",
       " 'financial problem': 0.9865374259558428,\n",
       " 'ukraine': 0.9865374259558428,\n",
       " 'misfit partners': 0.9865374259558428,\n",
       " 'kicked in the groin': 0.9865374259558428,\n",
       " 'record album': 0.9865374259558428,\n",
       " 'catholic school': 0.9865374259558428,\n",
       " 'remote control car': 0.9865374259558428,\n",
       " 'inflation': 0.9865374259558428,\n",
       " 'octogenarian': 0.9865374259558428,\n",
       " 'disgruntled worker': 0.9865374259558428,\n",
       " 'arm sling': 0.9865374259558428,\n",
       " 'theatrical backer': 0.9865374259558428,\n",
       " 'lyndon johnson': 0.9865374259558428,\n",
       " 'killed with hairpin': 0.9865374259558428,\n",
       " 'gun fight': 0.9865374259558428,\n",
       " 'nurse uniform': 0.9865374259558428,\n",
       " 'life extension': 0.9865374259558428,\n",
       " 'doo wop': 0.9865374259558428,\n",
       " 'financier': 0.9865374259558428,\n",
       " 'giant octopus': 0.9865374259558428,\n",
       " 'police surveillance': 0.9865374259558428,\n",
       " 'evil preacher': 0.9865374259558428,\n",
       " 'cylon': 0.9865374259558428,\n",
       " 'kammer': 0.9865374259558428,\n",
       " 'peanuts': 0.9865374259558428,\n",
       " 'vehicular accident': 0.9865374259558428,\n",
       " 'consumption': 0.9865374259558428,\n",
       " 'loss of friend': 0.9865374259558428,\n",
       " 'drying self with towel': 0.9865374259558428,\n",
       " 'irak': 0.9865374259558428,\n",
       " 'editing': 0.9865374259558428,\n",
       " 'team roping': 0.9865374259558428,\n",
       " 'egyptology': 0.9865374259558428,\n",
       " 'briarville missouri': 0.9865374259558428,\n",
       " 'pet dog': 0.9865374259558428,\n",
       " 'menschheit': 0.9865374259558428,\n",
       " 'housing project': 0.9865374259558428,\n",
       " 'regent': 0.9865374259558428,\n",
       " 'house search': 0.9865374259558428,\n",
       " 'cryptographic device': 0.9865374259558428,\n",
       " 'ultimate victory': 0.9865374259558428,\n",
       " 'cauterizing a wound': 0.9865374259558428,\n",
       " 'verlies': 0.9865374259558428,\n",
       " 'hibernation': 0.9865374259558428,\n",
       " 'highlands': 0.9865374259558428,\n",
       " 'sea lion': 0.9865374259558428,\n",
       " 'broken arrow': 0.9865374259558428,\n",
       " 'paris france': 0.9865374259558428,\n",
       " 'siddhartha': 0.9865374259558428,\n",
       " 'center of the earth': 0.9865374259558428,\n",
       " 'tuba player': 0.9865374259558428,\n",
       " 'burial chamber': 0.9865374259558428,\n",
       " 'lost weekend': 0.9865374259558428,\n",
       " 'mastercard': 0.9865374259558428,\n",
       " 'self help guru': 0.9865374259558428,\n",
       " 'shamanism': 0.9865374259558428,\n",
       " 'insecure woman': 0.9865374259558428,\n",
       " 'weapon of mass destruction': 0.9865374259558428,\n",
       " 'dangerous mission': 0.9865374259558428,\n",
       " 'nightclub entertainer': 0.9865374259558428,\n",
       " 'lynchian': 0.9865374259558428,\n",
       " 'prince albert': 0.9865374259558428,\n",
       " 'revivalism': 0.9865374259558428,\n",
       " 'nude drawing': 0.9865374259558428,\n",
       " 'bloody body of child': 0.9865374259558428,\n",
       " 'death of family': 0.9865374259558428,\n",
       " 'mysterious death': 0.9865374259558428,\n",
       " 'stockman': 0.9865374259558428,\n",
       " 'weightlifting': 0.9865374259558428,\n",
       " 'lapsed catholic': 0.9865374259558428,\n",
       " 'wedding toast': 0.9865374259558428,\n",
       " 'prototype': 0.9865374259558428,\n",
       " 'body snatchers': 0.9865374259558428,\n",
       " 'prison bus': 0.9865374259558428,\n",
       " 'rules': 0.9865374259558428,\n",
       " 'brutal cop': 0.9865374259558428,\n",
       " 'mercy petition': 0.9865374259558428,\n",
       " 'sexless marriage': 0.9865374259558428,\n",
       " 'animated credits': 0.9865374259558428,\n",
       " 'goldmine': 0.9865374259558428,\n",
       " 'cock fighting': 0.9865374259558428,\n",
       " 'nudism': 0.9865374259558428,\n",
       " 'geek': 0.9865374259558428,\n",
       " 'descendant': 0.9865374259558428,\n",
       " 'dead dog': 0.9865374259558428,\n",
       " 'reference to plato': 0.9865374259558428,\n",
       " 'royal wedding': 0.9865374259558428,\n",
       " 'multiple monsters': 0.9865374259558428,\n",
       " 'imperial russia': 0.9865374259558428,\n",
       " 'pretending to be a prostitute': 0.9865374259558428,\n",
       " 'winnipeg': 0.9865374259558428,\n",
       " 'homicidal': 0.9865374259558428,\n",
       " 'dump truck': 0.9865374259558428,\n",
       " 'sammen': 0.9865374259558428,\n",
       " 'peseta': 0.9865374259558428,\n",
       " 'rich people': 0.9865374259558428,\n",
       " 'jet ski': 0.9865374259558428,\n",
       " 'anal sex': 0.9865374259558428,\n",
       " 'bronko nagurski': 0.9865374259558428,\n",
       " 'bearded lady': 0.9865374259558428,\n",
       " 'david and goliath': 0.9865374259558428,\n",
       " 'weimar germany': 0.9865374259558428,\n",
       " 'anti war protest': 0.9865374259558428,\n",
       " 'off track betting': 0.9865374259558428,\n",
       " 'olympian sports team': 0.9865374259558428,\n",
       " 'near miss': 0.9865374259558428,\n",
       " 'formosa cafe hollywood': 0.9865374259558428,\n",
       " 'religious humour': 0.9865374259558428,\n",
       " 'thompson sub machine gun': 0.9865374259558428,\n",
       " 'gang warfare': 0.9865374259558428,\n",
       " 'hipster': 0.9865374259558428,\n",
       " 'armed robbery': 0.9865374259558428,\n",
       " 'ceti alpha v': 0.9865374259558428,\n",
       " 'rockettes': 0.9865374259558428,\n",
       " 'u.s. marine corps': 0.9865374259558428,\n",
       " 'labor strike': 0.9865374259558428,\n",
       " 'battlefield trauma': 0.9865374259558428,\n",
       " 'professional school': 0.9865374259558428,\n",
       " 'human alien': 0.9865374259558428,\n",
       " 'barbados': 0.9865374259558428,\n",
       " 'mexican province': 0.9865374259558428,\n",
       " 'magician': 0.9865374259558428,\n",
       " 'time capsule': 0.9865374259558428,\n",
       " 'space based weapon': 0.9865374259558428,\n",
       " 'blow up doll': 0.9865374259558428,\n",
       " 'cat lady': 0.9865374259558428,\n",
       " 'seismologist': 0.9865374259558428,\n",
       " 'young woman': 0.9865374259558428,\n",
       " 'environmental illness': 0.9865374259558428,\n",
       " 'amelia earhart': 0.9865374259558428,\n",
       " 'worrying': 0.9865374259558428,\n",
       " 'gay son': 0.9865374259558428,\n",
       " 'half naked man': 0.9865374259558428,\n",
       " 'women fight': 0.9865374259558428,\n",
       " 'book of mormon': 0.9865374259558428,\n",
       " 'royal court': 0.9865374259558428,\n",
       " 'disarmament': 0.9865374259558428,\n",
       " 'macguffin': 0.9865374259558428,\n",
       " 'abandoned baby': 0.9865374259558428,\n",
       " 'reference to jack ruby': 0.9865374259558428,\n",
       " 'speech writer': 0.9865374259558428,\n",
       " 'dead father': 0.9865374259558428,\n",
       " 'evil children': 0.9865374259558428,\n",
       " 'rich girl': 0.9865374259558428,\n",
       " 'omaha nebraska': 0.9865374259558428,\n",
       " 'giving away money': 0.9865374259558428,\n",
       " 'drifting': 0.9865374259558428,\n",
       " 'movie fan': 0.9865374259558428,\n",
       " 'choreography': 0.9865374259558428,\n",
       " 'fire chief': 0.9865374259558428,\n",
       " 'culvert': 0.9865374259558428,\n",
       " 'tent camp': 0.9865374259558428,\n",
       " 'seoul': 0.9865374259558428,\n",
       " 'shot point blank': 0.9865374259558428,\n",
       " 'crete': 0.9865374259558428,\n",
       " 'reflection in water': 0.9865374259558428,\n",
       " 'female mercenary': 0.9865374259558428,\n",
       " 'autoritian education': 0.9865374259558428,\n",
       " 'aristotle': 0.9865374259558428,\n",
       " 'caso': 0.9865374259558428,\n",
       " 'video tape': 0.9865374259558428,\n",
       " 'unkillable monster': 0.9865374259558428,\n",
       " 'bookstore': 0.9865374259558428,\n",
       " 'ice cream parlor': 0.9865374259558428,\n",
       " 'parallel lives': 0.9865374259558428,\n",
       " 'disabled child': 0.9865374259558428,\n",
       " 'high school rivalry': 0.9865374259558428,\n",
       " 'bad dream': 0.9865374259558428,\n",
       " 'medical test': 0.9865374259558428,\n",
       " 'reading aloud': 0.9865374259558428,\n",
       " 'pirate radio': 0.9865374259558428,\n",
       " 'nemesis': 0.9865374259558428,\n",
       " 'armada': 0.9865374259558428,\n",
       " 'dvd': 0.9865374259558428,\n",
       " 'oberflächlichkeit': 0.9865374259558428,\n",
       " 'paddlewheel boat': 0.9865374259558428,\n",
       " 'immigrant experience': 0.9865374259558428,\n",
       " 'double take': 0.9865374259558428,\n",
       " 'unlikely hero': 0.9865374259558428,\n",
       " 'garbage dump': 0.9865374259558428,\n",
       " 'anecdotes': 0.9865374259558428,\n",
       " 'reprieve': 0.9865374259558428,\n",
       " 'avarice': 0.9865374259558428,\n",
       " 'weather manipulation': 0.9865374259558428,\n",
       " 'bludgeoning': 0.9865374259558428,\n",
       " 'chastity': 0.9865374259558428,\n",
       " 'pendelum': 0.9865374259558428,\n",
       " 'cctv': 0.9865374259558428,\n",
       " 'cybersuit': 0.9865374259558428,\n",
       " 'jet fighter pilot': 0.9865374259558428,\n",
       " 'stasi': 0.9865374259558428,\n",
       " 'microscopic': 0.9865374259558428,\n",
       " 'sneezing': 0.9865374259558428,\n",
       " 'police reporter': 0.9865374259558428,\n",
       " 'terminal illnessdying man': 0.9865374259558428,\n",
       " 'dead mother': 0.9865374259558428,\n",
       " 'yucatec maya language': 0.9865374259558428,\n",
       " 'sensory deprivation': 0.9865374259558428,\n",
       " 'revanche': 0.9865374259558428,\n",
       " 'special olympics': 0.9865374259558428,\n",
       " 'universal translator': 0.9865374259558428,\n",
       " 'submission': 0.9865374259558428,\n",
       " 'parish hall': 0.9865374259558428,\n",
       " 'escaped killer': 0.9865374259558428,\n",
       " 'shouwa period': 0.9865374259558428,\n",
       " 'scythe': 0.9865374259558428,\n",
       " 'boy eaten': 0.9865374259558428,\n",
       " 'puffer fish': 0.9865374259558428,\n",
       " 'cutting face while shaving': 0.9865374259558428,\n",
       " 'gadget': 0.9865374259558428,\n",
       " 'ice sculpture': 0.9865374259558428,\n",
       " 'fetus': 0.9865374259558428,\n",
       " 'religious fundamentalist': 0.9865374259558428,\n",
       " 'community service': 0.9865374259558428,\n",
       " 'basketball hoop': 0.9865374259558428,\n",
       " 'town meeting': 0.9865374259558428,\n",
       " 'reference to al green': 0.9865374259558428,\n",
       " 'landmark': 0.9865374259558428,\n",
       " 'dating woes': 0.9865374259558428,\n",
       " 'ear cut off': 0.9865374259558428,\n",
       " 'demeanor course': 0.9865374259558428,\n",
       " 'next door neighbor': 0.9865374259558428,\n",
       " 'lost baggage': 0.9865374259558428,\n",
       " 'lipstick': 0.9865374259558428,\n",
       " 'schematic': 0.9865374259558428,\n",
       " 'confined': 0.9865374259558428,\n",
       " 'first class': 0.9865374259558428,\n",
       " 'steak on black eye': 0.9865374259558428,\n",
       " 'hairstyle': 0.9865374259558428,\n",
       " 'pterodactyl': 0.9865374259558428,\n",
       " 'french fries': 0.9865374259558428,\n",
       " 'devotion': 0.9865374259558428,\n",
       " 'cartoon skunk': 0.9865374259558428,\n",
       " 'john lennon': 0.9865374259558428,\n",
       " 'indian tribe': 0.9865374259558428,\n",
       " 'firefly': 0.9865374259558428,\n",
       " 'crime gone awry': 0.9865374259558428,\n",
       " 'underwear on flagpole': 0.9865374259558428,\n",
       " 'dragonslayer': 0.9865374259558428,\n",
       " 'soul transference': 0.9865374259558428,\n",
       " 'recklessness': 0.9865374259558428,\n",
       " 'sock on the jaw': 0.9865374259558428,\n",
       " 'lollipop': 0.9865374259558428,\n",
       " 'japanese mythology': 0.9865374259558428,\n",
       " 'aircraft factory': 0.9865374259558428,\n",
       " 'los angeles river': 0.9865374259558428,\n",
       " 'code of honor': 0.9865374259558428,\n",
       " 'safe sex': 0.9865374259558428,\n",
       " 'cape town south africa': 0.9865374259558428,\n",
       " 'renaissance troup': 0.9865374259558428,\n",
       " 'broken arm': 0.9865374259558428,\n",
       " 'post war life': 0.9865374259558428,\n",
       " 'sleeping pill': 0.9865374259558428,\n",
       " 'batman': 0.9865374259558428,\n",
       " 'immaturity': 0.9865374259558428,\n",
       " 'drilling': 0.9865374259558428,\n",
       " 'nude image': 0.9865374259558428,\n",
       " 'strongbox': 0.9865374259558428,\n",
       " 'snow kingdom': 0.9865374259558428,\n",
       " 'prawn': 0.9865374259558428,\n",
       " 'newsroom': 0.9865374259558428,\n",
       " 'mighty morphin power rangers': 0.9865374259558428,\n",
       " 'dunkirk': 0.9865374259558428,\n",
       " 'english professor': 0.9865374259558428,\n",
       " 'miss piggy': 0.9865374259558428,\n",
       " 'hiroshima': 0.9865374259558428,\n",
       " 'rock and roll star': 0.9865374259558428,\n",
       " 'flamethrower as police weapon': 0.9865374259558428,\n",
       " 'spiderweb': 0.9865374259558428,\n",
       " 'aspiring writer': 0.9865374259558428,\n",
       " 'roman bath': 0.9865374259558428,\n",
       " 'phantom of the opera': 0.9865374259558428,\n",
       " 'master and student': 0.9865374259558428,\n",
       " 'monotony': 0.9865374259558428,\n",
       " 'belching': 0.9865374259558428,\n",
       " 'cern': 0.9865374259558428,\n",
       " 'brokerage': 0.9865374259558428,\n",
       " 'jukebox': 0.9865374259558428,\n",
       " 'land developer': 0.9865374259558428,\n",
       " 'army captain': 0.9865374259558428,\n",
       " \"children's perspectives\": 0.9865374259558428,\n",
       " 'u.s. canada war': 0.9865374259558428,\n",
       " 'anchorage alaska': 0.9865374259558428,\n",
       " 'unplugged electronic works': 0.9865374259558428,\n",
       " 'bride and groom': 0.9865374259558428,\n",
       " 'nesting grounds': 0.9865374259558428,\n",
       " 'epileptic seizure': 0.9865374259558428,\n",
       " 'loudspeaker': 0.9865374259558428,\n",
       " 'seventeen': 0.9865374259558428,\n",
       " 'biloxi mississippi': 0.9865374259558428,\n",
       " 'kimono': 0.9865374259558428,\n",
       " 'bird cage': 0.9865374259558428,\n",
       " 'energy company': 0.9865374259558428,\n",
       " 'kurort': 0.9865374259558428,\n",
       " 'assumed identity': 0.9865374259558428,\n",
       " 'animal human communication': 0.9865374259558428,\n",
       " 'aircraft explosion': 0.9865374259558428,\n",
       " 'frozen alive': 0.9865374259558428,\n",
       " 'indian attack': 0.9865374259558428,\n",
       " 'corrupt magistrate': 0.9865374259558428,\n",
       " 'pet food': 0.9865374259558428,\n",
       " 'male nanny': 0.9865374259558428,\n",
       " 'marriage counselor': 0.9865374259558428,\n",
       " 'pager': 0.9865374259558428,\n",
       " 'world peace': 0.9865374259558428,\n",
       " 'schizophrenic': 0.9865374259558428,\n",
       " 'tractor': 0.9865374259558428,\n",
       " 'yearbook': 0.9865374259558428,\n",
       " 'islington england': 0.9865374259558428,\n",
       " 'iraq war veteran': 0.9865374259558428,\n",
       " 'mysterious truck': 0.9865374259558428,\n",
       " 'biting': 0.9865374259558428,\n",
       " 'lured': 0.9865374259558428,\n",
       " 'modern art': 0.9865374259558428,\n",
       " 'ice storm': 0.9865374259558428,\n",
       " 'subway train': 0.9865374259558428,\n",
       " 'adult education center': 0.9865374259558428,\n",
       " 'nazi hunter': 0.9865374259558428,\n",
       " 'college freshman': 0.9865374259558428,\n",
       " 'park ranger': 0.9865374259558428,\n",
       " 'brutal death': 0.9865374259558428,\n",
       " 'nest egg': 0.9865374259558428,\n",
       " 'christ figure': 0.9865374259558428,\n",
       " 'baldness': 0.9865374259558428,\n",
       " 'passive aggression': 0.9865374259558428,\n",
       " 'sponge bath': 0.9865374259558428,\n",
       " 'female prisoner': 0.9865374259558428,\n",
       " 'ecw': 0.9865374259558428,\n",
       " 'ramayana': 0.9865374259558428,\n",
       " 'gettysburg': 0.9865374259558428,\n",
       " 'sermon on the mount': 0.9865374259558428,\n",
       " 'superglue': 0.9865374259558428,\n",
       " 'scarab': 0.9865374259558428,\n",
       " 'circumstance': 0.9865374259558428,\n",
       " 'humanoid robot': 0.9865374259558428,\n",
       " 'new guinea': 0.9865374259558428,\n",
       " 'black youths': 0.9865374259558428,\n",
       " 'rubber boat': 0.9865374259558428,\n",
       " 'ban from profession': 0.9865374259558428,\n",
       " 'loss of pet': 0.9865374259558428,\n",
       " \"picking one's nose\": 0.9865374259558428,\n",
       " 'falling down stairs': 0.9865374259558428,\n",
       " 'marksman': 0.9865374259558428,\n",
       " 'rude waiter': 0.9865374259558428,\n",
       " 'waterboarding': 0.9865374259558428,\n",
       " 'shooting practice': 0.9865374259558428,\n",
       " 'lecturer': 0.9865374259558428,\n",
       " 'hero trio': 0.9865374259558428,\n",
       " 'everglades': 0.9865374259558428,\n",
       " 'implantat': 0.9865374259558428,\n",
       " 'prankster': 0.9865374259558428,\n",
       " 'autopsy room': 0.9865374259558428,\n",
       " 'womens issues': 0.9865374259558428,\n",
       " 'tradesman': 0.9865374259558428,\n",
       " 'prologue': 0.9865374259558428,\n",
       " 'automation': 0.9865374259558428,\n",
       " 'protestors': 0.9865374259558428,\n",
       " 'oil baron': 0.9865374259558428,\n",
       " 'tony blair': 0.9865374259558428,\n",
       " 'tribute': 0.9865374259558428,\n",
       " 'barker': 0.9865374259558428,\n",
       " 'coffee grower': 0.9865374259558428,\n",
       " 'space and aliens': 0.9865374259558428,\n",
       " 'boa constrictor': 0.9865374259558428,\n",
       " 'dead boy': 0.9865374259558428,\n",
       " 'social network': 0.9865374259558428,\n",
       " 'antiques shop': 0.9865374259558428,\n",
       " 'cardiopulmonery resuscitation': 0.9865374259558428,\n",
       " 'miss america': 0.9865374259558428,\n",
       " 'geode': 0.9865374259558428,\n",
       " 'critically bashed': 0.9865374259558428,\n",
       " 'revelry': 0.9865374259558428,\n",
       " 'rhyme battle': 0.9865374259558428,\n",
       " 'record collector': 0.9865374259558428,\n",
       " 'hugging': 0.9865374259558428,\n",
       " 'newcomer': 0.9865374259558428,\n",
       " 'somnambulism': 0.9865374259558428,\n",
       " 'wedding bouquet': 0.9865374259558428,\n",
       " 'exploding helicopter': 0.9865374259558428,\n",
       " 'farming community': 0.9865374259558428,\n",
       " 'telephone box': 0.9865374259558428,\n",
       " 'recruiting': 0.9865374259558428,\n",
       " 'archaeological expedition': 0.9865374259558428,\n",
       " 'family dog': 0.9865374259558428,\n",
       " 'storekeeper': 0.9865374259558428,\n",
       " 'nightgown': 0.9865374259558428,\n",
       " 'cheater': 0.9865374259558428,\n",
       " 'filmes contra o comunismo': 0.9865374259558428,\n",
       " 'alien language': 0.9865374259558428,\n",
       " 'hippy': 0.9865374259558428,\n",
       " 'salt mine': 0.9865374259558428,\n",
       " 'shot in the knee': 0.9865374259558428,\n",
       " 'beethoven': 0.9865374259558428,\n",
       " 'drag net': 0.9865374259558428,\n",
       " 'epistaxis': 0.9865374259558428,\n",
       " 'biblical code': 0.9865374259558428,\n",
       " 'cryptozoology': 0.9865374259558428,\n",
       " 'french and indian war': 0.9865374259558428,\n",
       " 'workout': 0.9865374259558428,\n",
       " 'adopted son': 0.9865374259558428,\n",
       " 'tulips': 0.9865374259558428,\n",
       " 'film actresses': 0.9865374259558428,\n",
       " 'swiss family robinson': 0.9865374259558428,\n",
       " 'illness and injury': 0.9865374259558428,\n",
       " 'guitar player': 0.9865374259558428,\n",
       " 'bullet proof vest': 0.9865374259558428,\n",
       " 'american football team': 0.9865374259558428,\n",
       " 'health club': 0.9865374259558428,\n",
       " 'apple cider': 0.9865374259558428,\n",
       " 'patenonkel': 0.9865374259558428,\n",
       " \"driver's license\": 0.9865374259558428,\n",
       " 'autocracy': 0.9865374259558428,\n",
       " 'vengeful ghost': 0.9865374259558428,\n",
       " 'methodist church': 0.9865374259558428,\n",
       " 'death threat': 0.9865374259558428,\n",
       " 'congressman': 0.9865374259558428,\n",
       " 'sci-fi comedy': 0.9865374259558428,\n",
       " 'uruguay': 0.9865374259558428,\n",
       " 'throatsinging': 0.9865374259558428,\n",
       " 'ethnic diversity': 0.9865374259558428,\n",
       " 'voguing': 0.9865374259558428,\n",
       " 'soul selling': 0.9865374259558428,\n",
       " 'public pool': 0.9865374259558428,\n",
       " 'red khmer': 0.9865374259558428,\n",
       " 'adult child friendship': 0.9865374259558428,\n",
       " 'dangerous driving': 0.9865374259558428,\n",
       " 'reference to ed mcmahon': 0.9865374259558428,\n",
       " 'fortress': 0.9865374259558428,\n",
       " 'baby carriage': 0.9865374259558428,\n",
       " 'marrying money': 0.9865374259558428,\n",
       " 'philanderer': 0.9865374259558428,\n",
       " 'trainee': 0.9865374259558428,\n",
       " 'knight templars': 0.9865374259558428,\n",
       " 'revisionist': 0.9865374259558428,\n",
       " 'tauchen': 0.9865374259558428,\n",
       " 'commodities': 0.9865374259558428,\n",
       " 'small town murder': 0.9865374259558428,\n",
       " 'member of parliament': 0.9865374259558428,\n",
       " 'mugshot': 0.9865374259558428,\n",
       " 'electric power station': 0.9865374259558428,\n",
       " 'sardinien': 0.9865374259558428,\n",
       " 'trapeze artist': 0.9865374259558428,\n",
       " 'crazy uncle': 0.9865374259558428,\n",
       " 'heir to fortune': 0.9865374259558428,\n",
       " 'hugh hefner': 0.9865374259558428,\n",
       " 'tarmac': 0.9865374259558428,\n",
       " 'nuclear device': 0.9865374259558428,\n",
       " 'rosenheim': 0.9865374259558428,\n",
       " 'white water rafting': 0.9865374259558428,\n",
       " 'narrated sequences': 0.9865374259558428,\n",
       " '绝地奶霸': 0.9865374259558428,\n",
       " 'cultural revolution': 0.9865374259558428,\n",
       " 'glaskugel': 0.9865374259558428,\n",
       " 'comb over': 0.9865374259558428,\n",
       " 'pacific northwest': 0.9865374259558428,\n",
       " 'goldfish': 0.9865374259558428,\n",
       " 'amphibious vehicle': 0.9865374259558428,\n",
       " 'fort knox': 0.9865374259558428,\n",
       " 'ashtray': 0.9865374259558428,\n",
       " 'group vomit': 0.9865374259558428,\n",
       " 'corner shop': 0.9865374259558428,\n",
       " 'water park': 0.9865374259558428,\n",
       " 'thoughts of retirement': 0.9865374259558428,\n",
       " 'short-term memory': 0.9865374259558428,\n",
       " 'labor organizer': 0.9865374259558428,\n",
       " 'ex spouses': 0.9865374259558428,\n",
       " 'piano player': 0.9865374259558428,\n",
       " 'mythological beast': 0.9865374259558428,\n",
       " 'silver surfer': 0.9865374259558428,\n",
       " 'ymca': 0.9865374259558428,\n",
       " 'shootout at a train station': 0.9865374259558428,\n",
       " 'scientist bar': 0.9865374259558428,\n",
       " 'restroom': 0.9865374259558428,\n",
       " 'searching for love': 0.9865374259558428,\n",
       " 'wanted man': 0.9865374259558428,\n",
       " 'it-expert': 0.9865374259558428,\n",
       " 'salvage': 0.9865374259558428,\n",
       " 'golf war': 0.9865374259558428,\n",
       " 'rodgers & hammerstei': 0.9865374259558428,\n",
       " 'lost civilization': 0.9865374259558428,\n",
       " 'auld lang syne': 0.9865374259558428,\n",
       " 'sitcom': 0.9865374259558428,\n",
       " 'jumping from a rooftop': 0.9865374259558428,\n",
       " 'palermo': 0.9865374259558428,\n",
       " 'young couple': 0.9865374259558428,\n",
       " 'hard drive': 0.9865374259558428,\n",
       " 'extremist': 0.9865374259558428,\n",
       " 'shivaree': 0.9865374259558428,\n",
       " 'mandarin': 0.9865374259558428,\n",
       " 'bearer bonds': 0.9865374259558428,\n",
       " 'fake school': 0.9865374259558428,\n",
       " 'daring rescue': 0.9865374259558428,\n",
       " 'bellboy': 0.9865374259558428,\n",
       " 'science vs superstition': 0.9865374259558428,\n",
       " 'crane': 0.9865374259558428,\n",
       " 'reference to sprite': 0.9865374259558428,\n",
       " 'beaten to death': 0.9865374259558428,\n",
       " 'tragic event': 0.9865374259558428,\n",
       " 'pearls': 0.9865374259558428,\n",
       " 'mercifulness': 0.9865374259558428,\n",
       " 'nuclear reactor': 0.9865374259558428,\n",
       " 'entertainment': 0.9865374259558428,\n",
       " 'trustee': 0.9865374259558428,\n",
       " 'dining hall': 0.9865374259558428,\n",
       " 'lgbt athlete': 0.9865374259558428,\n",
       " 'british comedy': 0.9865374259558428,\n",
       " 'defense attorney': 0.9865374259558428,\n",
       " 'groupthink': 0.9865374259558428,\n",
       " \"butcher's shop\": 0.9865374259558428,\n",
       " 'sex slave': 0.9865374259558428,\n",
       " 'crawling hand': 0.9865374259558428,\n",
       " 'mexican american border': 0.9865374259558428,\n",
       " 'schilf': 0.9865374259558428,\n",
       " 'jacobs ladder': 0.9865374259558428,\n",
       " 'marital separation': 0.9865374259558428,\n",
       " 'newspaper headline': 0.9865374259558428,\n",
       " 'dawn': 0.9865374259558428,\n",
       " 'prescription drug abuse': 0.9865374259558428,\n",
       " 'brisbane queensland': 0.9865374259558428,\n",
       " 'covered wagon': 0.9865374259558428,\n",
       " 'concussion': 0.9865374259558428,\n",
       " 'retirement party': 0.9865374259558428,\n",
       " 'playing god': 0.9865374259558428,\n",
       " 'rhinoceros': 0.9865374259558428,\n",
       " 'strafzettel': 0.9865374259558428,\n",
       " 'asbestos': 0.9865374259558428,\n",
       " 'collections': 0.9865374259558428,\n",
       " 'music school': 0.9865374259558428,\n",
       " 'nirvana': 0.9865374259558428,\n",
       " 'superheroine': 0.9865374259558428,\n",
       " 'mysterious character': 0.9865374259558428,\n",
       " 'noise complaint': 0.9865374259558428,\n",
       " 'trombones': 0.9865374259558428,\n",
       " 'broadway actress': 0.9865374259558428,\n",
       " 'supervisor': 0.9865374259558428,\n",
       " 'cancan dance': 0.9865374259558428,\n",
       " 'don quixote': 0.9865374259558428,\n",
       " 'war on crime': 0.9865374259558428,\n",
       " 'zeitgeist unknown': 0.9865374259558428,\n",
       " 'jewish girl': 0.9865374259558428,\n",
       " 'old photograph': 0.9865374259558428,\n",
       " 'public education': 0.9865374259558428,\n",
       " 'seminary': 0.9865374259558428,\n",
       " 'apnoe-diving': 0.9865374259558428,\n",
       " 'night of the living dead': 0.9865374259558428,\n",
       " 'stadt': 0.9865374259558428,\n",
       " 'secret life': 0.9865374259558428,\n",
       " 'pony': 0.9865374259558428,\n",
       " 'cheyenne': 0.9865374259558428,\n",
       " 'japanese new wave': 0.9865374259558428,\n",
       " 'lost and found': 0.9865374259558428,\n",
       " 'cityscape': 0.9865374259558428,\n",
       " 'dune': 0.9865374259558428,\n",
       " 'beggar clan': 0.9865374259558428,\n",
       " 'cotton gin': 0.9865374259558428,\n",
       " 'space camp': 0.9865374259558428,\n",
       " 'state trooper': 0.9865374259558428,\n",
       " 'potted plant': 0.9865374259558428,\n",
       " 'dogfight': 0.9865374259558428,\n",
       " 'deserted by husband': 0.9865374259558428,\n",
       " 'class distinction': 0.9865374259558428,\n",
       " 'pride & prejudice': 0.9865374259558428,\n",
       " 'wounded soldier': 0.9865374259558428,\n",
       " 'blunt': 0.9865374259558428,\n",
       " 'jellybean': 0.9865374259558428,\n",
       " 'doppelgänger': 0.9865374259558428,\n",
       " 'osha': 0.9865374259558428,\n",
       " 'gantry': 0.9865374259558428,\n",
       " 'prisoner abuse': 0.9865374259558428,\n",
       " 'iodine': 0.9865374259558428,\n",
       " 'cat house': 0.9865374259558428,\n",
       " 'dodge charger': 0.9865374259558428,\n",
       " 'kumite': 0.9865374259558428,\n",
       " 'show producer': 0.9865374259558428,\n",
       " 'evangelical christianity': 0.9865374259558428,\n",
       " 'reavers': 0.9865374259558428,\n",
       " 'tortured to death': 0.9865374259558428,\n",
       " 'wall of fire': 0.9865374259558428,\n",
       " 'catskills': 0.9865374259558428,\n",
       " 'english channel': 0.9865374259558428,\n",
       " 'ark of the covenant': 0.9865374259558428,\n",
       " 'beach resort': 0.9865374259558428,\n",
       " 'health care': 0.9865374259558428,\n",
       " 'street prostitution': 0.9865374259558428,\n",
       " 'delivery boy': 0.9865374259558428,\n",
       " 'jury tampering': 0.9865374259558428,\n",
       " 'radio series': 0.9865374259558428,\n",
       " 'supernatural phenomena': 0.9865374259558428,\n",
       " 'italian soldier': 0.9865374259558428,\n",
       " 'gift of ring': 0.9865374259558428,\n",
       " 'crime solving': 0.9865374259558428,\n",
       " 'stage mother': 0.9865374259558428,\n",
       " 'gender identity': 0.9865374259558428,\n",
       " 'walkabout': 0.9865374259558428,\n",
       " 'pflegesohn': 0.9865374259558428,\n",
       " 'train tracks': 0.9865374259558428,\n",
       " 'going into labor': 0.9865374259558428,\n",
       " 'american mexican war': 0.9865374259558428,\n",
       " 'subway station': 0.9865374259558428,\n",
       " 'kid brother': 0.9865374259558428,\n",
       " 'computer war': 0.9865374259558428,\n",
       " 'mandolin': 0.9865374259558428,\n",
       " 'expectant grandmother': 0.9865374259558428,\n",
       " 'sunbathing': 0.9865374259558428,\n",
       " 'beatboxing': 0.9865374259558428,\n",
       " 'motion pictures': 0.9865374259558428,\n",
       " 'laserpointer': 0.9865374259558428,\n",
       " 'psycho killer': 0.9865374259558428,\n",
       " 'rape and revenge': 0.9865374259558428,\n",
       " 'pixar animation': 0.9865374259558428,\n",
       " 'stepford': 0.9865374259558428,\n",
       " 'land claim': 0.9865374259558428,\n",
       " 'princeton university': 0.9865374259558428,\n",
       " 'boomerang': 0.9865374259558428,\n",
       " 'war memorial': 0.9865374259558428,\n",
       " 'looking pale': 0.9865374259558428,\n",
       " 'egyptian tomb': 0.9865374259558428,\n",
       " 'dead lover': 0.9865374259558428,\n",
       " 'mod 1960s': 0.9865374259558428,\n",
       " 'dog cat friendship': 0.9865374259558428,\n",
       " 'italian art': 0.9865374259558428,\n",
       " 'motel room': 0.9865374259558428,\n",
       " 'admiral': 0.9865374259558428,\n",
       " 'remake of asian film': 0.9865374259558428,\n",
       " 'exclusion': 0.9865374259558428,\n",
       " 'theology': 0.9865374259558428,\n",
       " 'railgun': 0.9865374259558428,\n",
       " 'weltverbesserer': 0.9865374259558428,\n",
       " 'turbine': 0.9865374259558428,\n",
       " 'broadway actor': 0.9865374259558428,\n",
       " 'manslaughter': 0.9865374259558428,\n",
       " 'toothbrush': 0.9865374259558428,\n",
       " 'heroes journey': 0.9865374259558428,\n",
       " 'muscleman': 0.9865374259558428,\n",
       " 'celebi': 0.9865374259558428,\n",
       " 'death of king': 0.9865374259558428,\n",
       " 'artist colony': 0.9865374259558428,\n",
       " 'bush whacker': 0.9865374259558428,\n",
       " 'cowboys and indians': 0.9865374259558428,\n",
       " 'gdansk': 0.9865374259558428,\n",
       " 'religious conflict': 0.9865374259558428,\n",
       " 'riesen insekten': 0.9865374259558428,\n",
       " 'periscope': 0.9865374259558428,\n",
       " 'airport security': 0.9865374259558428,\n",
       " 'mountain cabin': 0.9865374259558428,\n",
       " 'attempted strangulation': 0.9865374259558428,\n",
       " 'apartment complex': 0.9865374259558428,\n",
       " 'held hostage': 0.9865374259558428,\n",
       " 'foreign aid': 0.9865374259558428,\n",
       " 'self expression': 0.9865374259558428,\n",
       " 'gender disguise': 0.9865374259558428,\n",
       " 'female agent': 0.9865374259558428,\n",
       " 'eccentric woman': 0.9865374259558428,\n",
       " 'overheating': 0.9865374259558428,\n",
       " 'opening night': 0.9865374259558428,\n",
       " 'hard to kill': 0.9865374259558428,\n",
       " 'rassengesetzte': 0.9865374259558428,\n",
       " 'multiple character': 0.9865374259558428,\n",
       " 'solteros': 0.9865374259558428,\n",
       " 'political incompetence': 0.9865374259558428,\n",
       " 'ukulele': 0.9865374259558428,\n",
       " 'throat ripping': 0.9865374259558428,\n",
       " 'bickering couple': 0.9865374259558428,\n",
       " 'heart trouble': 0.9865374259558428,\n",
       " 'christmas present': 0.9865374259558428,\n",
       " 'manservant': 0.9865374259558428,\n",
       " 'white male pretending to be black': 0.9865374259558428,\n",
       " 'what if': 0.9865374259558428,\n",
       " 'shooting party': 0.9865374259558428,\n",
       " 'habor': 0.9865374259558428,\n",
       " 'imperial court': 0.9865374259558428,\n",
       " 'customs house': 0.9865374259558428,\n",
       " 'scatological humor': 0.9865374259558428,\n",
       " 'dead mule': 0.9865374259558428,\n",
       " 'bullet dodging': 0.9865374259558428,\n",
       " 'rock singer': 0.9865374259558428,\n",
       " 'corean war': 0.9865374259558428,\n",
       " 'corporal punishment': 0.9865374259558428,\n",
       " 'spending money': 0.9865374259558428,\n",
       " 'military brat': 0.9865374259558428,\n",
       " 'wasp': 0.9865374259558428,\n",
       " 'japanese surrender': 0.9865374259558428,\n",
       " 'newspaper stand': 0.9865374259558428,\n",
       " 'botched robbery': 0.9865374259558428,\n",
       " 'assistant district attorney': 0.9865374259558428,\n",
       " 'sylvester the cat': 0.9865374259558428,\n",
       " 'vegetable garden': 0.9865374259558428,\n",
       " 'exotic pet': 0.9865374259558428,\n",
       " 'army sergeant': 0.9865374259558428,\n",
       " 'christmas horror': 0.9865374259558428,\n",
       " 'hanukkah': 0.9865374259558428,\n",
       " 'exzentrik': 0.9865374259558428,\n",
       " 'theological debate': 0.9865374259558428,\n",
       " 'children home alone': 0.9865374259558428,\n",
       " 'child swearing': 0.9865374259558428,\n",
       " 'irish civil war': 0.9865374259558428,\n",
       " 'home renovation': 0.9865374259558428,\n",
       " 'death personified': 0.9865374259558428,\n",
       " 'hemophagia': 0.9865374259558428,\n",
       " 'bitterness': 0.9865374259558428,\n",
       " 'close-up': 0.9865374259558428,\n",
       " 'juwelry heist': 0.9865374259558428,\n",
       " 'eastern front': 0.9865374259558428,\n",
       " 'ivy league': 0.9865374259558428,\n",
       " 'film school': 0.9865374259558428,\n",
       " 'mortuary': 0.9865374259558428,\n",
       " 'crystal machine': 0.9865374259558428,\n",
       " 'camper': 0.9865374259558428,\n",
       " 'iron monkey': 0.9865374259558428,\n",
       " 'santa barbara california': 0.9865374259558428,\n",
       " 'sin eater': 0.9865374259558428,\n",
       " 'parakeet': 0.9865374259558428,\n",
       " 'alien teenager': 0.9865374259558428,\n",
       " 'low rider': 0.9865374259558428,\n",
       " 'fungus spores': 0.9865374259558428,\n",
       " 'spaniel': 0.9865374259558428,\n",
       " 'charlie chan': 0.9865374259558428,\n",
       " 'lovebird': 0.9865374259558428,\n",
       " 'military school': 0.9865374259558428,\n",
       " 'memoirs': 0.9865374259558428,\n",
       " 'replacement': 0.9865374259558428,\n",
       " 'menorah': 0.9865374259558428,\n",
       " 'pharmacist': 0.9865374259558428,\n",
       " 'reeducation camp': 0.9865374259558428,\n",
       " 'swinger club': 0.9865374259558428,\n",
       " 'dog sled': 0.9865374259558428,\n",
       " 'solar energy': 0.9865374259558428,\n",
       " 'bestiality': 0.9865374259558428,\n",
       " 'models': 0.9865374259558428,\n",
       " 'movie serial': 0.9865374259558428,\n",
       " 'triplet': 0.9865374259558428,\n",
       " 'identical twins': 0.9865374259558428,\n",
       " 'nativity': 0.9865374259558428,\n",
       " 'animal abuse': 0.9865374259558428,\n",
       " 'jedi training': 0.9865374259558428,\n",
       " 'normandy beach': 0.9865374259558428,\n",
       " 'british spy': 0.9865374259558428,\n",
       " 'smokehouse': 0.9865374259558428,\n",
       " 'prima ballerina': 0.9865374259558428,\n",
       " 'pilot school': 0.9865374259558428,\n",
       " 'casbah': 0.9865374259558428,\n",
       " 'expatriate': 0.9865374259558428,\n",
       " 'pool cleaner': 0.9865374259558428,\n",
       " 'cop-killer': 0.9865374259558428,\n",
       " 'beaver': 0.9865374259558428,\n",
       " 'warp engine': 0.9865374259558428,\n",
       " 'botox': 0.9865374259558428,\n",
       " 'former child star': 0.9865374259558428,\n",
       " 'older man younger man relationship': 0.9865374259558428,\n",
       " 'pillow fight': 0.9865374259558428,\n",
       " 'anti villain': 0.9865374259558428,\n",
       " 'brat pack': 0.9865374259558428,\n",
       " 'dirt bike': 0.9865374259558428,\n",
       " 'skid row': 0.9865374259558428,\n",
       " 'home front': 0.9865374259558428,\n",
       " 'u.s. senator': 0.9865374259558428,\n",
       " 'nanobots': 0.9865374259558428,\n",
       " 'flying upside down': 0.9865374259558428,\n",
       " 'sound barrier': 0.9865374259558428,\n",
       " 'view askew': 0.9865374259558428,\n",
       " 'abc movie of the week': 0.9865374259558428,\n",
       " 'mass suicide': 0.9865374259558428,\n",
       " 'christmas holiday': 0.9865374259558428,\n",
       " 'hyena': 0.9865374259558428,\n",
       " 'bowie knife': 0.9865374259558428,\n",
       " 'shaving cream': 0.9865374259558428,\n",
       " 'bourbon': 0.9865374259558428,\n",
       " 'millinery': 0.9865374259558428,\n",
       " 'streetball': 0.9865374259558428,\n",
       " 'organ player': 0.9865374259558428,\n",
       " 'father daughter conflict': 0.9865374259558428,\n",
       " 'bruce banner': 0.9865374259558428,\n",
       " 'character study': 0.9865374259558428,\n",
       " 'cattivissimo': 0.9865374259558428,\n",
       " 'spin doctor': 0.9865374259558428,\n",
       " 'clairvoyance': 0.9865374259558428,\n",
       " 'car procession': 0.9865374259558428,\n",
       " 'rice paddy': 0.9865374259558428,\n",
       " 'woodchipper': 0.9865374259558428,\n",
       " 'chancellor': 0.9865374259558428,\n",
       " 'information leak': 0.9865374259558428,\n",
       " 'anti social': 0.9865374259558428,\n",
       " 'medicine show': 0.9865374259558428,\n",
       " 'sexual tension': 0.9865374259558428,\n",
       " 'forced relocation': 0.9865374259558428,\n",
       " 'yogi': 0.9865374259558428,\n",
       " 'professional soccer player': 0.9865374259558428,\n",
       " 'banquet': 0.9865374259558428,\n",
       " 'fighter ace': 0.9865374259558428,\n",
       " 'anesthetic': 0.9865374259558428,\n",
       " 'cornwall england': 0.9865374259558428,\n",
       " 'overhead camera shot': 0.9865374259558428,\n",
       " 'emotional abuse': 0.9865374259558428,\n",
       " 'messenger': 0.9865374259558428,\n",
       " 'concert footage': 0.9865374259558428,\n",
       " 'electric guitar': 0.9865374259558428,\n",
       " 'arm in cast': 0.9865374259558428,\n",
       " 'navy veterans': 0.9865374259558428,\n",
       " 'aphrodisiac': 0.9865374259558428,\n",
       " 'flautist': 0.9865374259558428,\n",
       " 'christmas tree dealer': 0.9865374259558428,\n",
       " 'black men': 0.9865374259558428,\n",
       " 'marcel pagnol': 0.9865374259558428,\n",
       " 'unconsummated marriage': 0.9865374259558428,\n",
       " 'analingus': 0.9865374259558428,\n",
       " 'eternal youth': 0.9865374259558428,\n",
       " 'psychosomatic illness': 0.9865374259558428,\n",
       " 'knife through the neck': 0.9865374259558428,\n",
       " 'landslide': 0.9865374259558428,\n",
       " 'identity swapping': 0.9865374259558428,\n",
       " 'cardiomyopathy': 0.9865374259558428,\n",
       " 'hatchet': 0.9865374259558428,\n",
       " 'polio': 0.9865374259558428,\n",
       " 'mission clinic': 0.9865374259558428,\n",
       " 'head in jar': 0.9865374259558428,\n",
       " 'bread': 0.9865374259558428,\n",
       " 'squire': 0.9865374259558428,\n",
       " 'geneva': 0.9865374259558428,\n",
       " 'cattleman': 0.9865374259558428,\n",
       " 'southern literature': 0.9865374259558428,\n",
       " 'ice rink': 0.9865374259558428,\n",
       " 'connected': 0.9865374259558428,\n",
       " 'coroner': 0.9865374259558428,\n",
       " 'deprivation chamber': 0.9865374259558428,\n",
       " 'police band': 0.9865374259558428,\n",
       " ...}"
      ]
     },
     "execution_count": 35,
     "metadata": {},
     "output_type": "execute_result"
    }
   ],
   "source": [
    "# For graph based recommendation, we use these values for giving weightage\n",
    "# By taking inverse of the proportion of movies belonging to a certain keyword, \n",
    "# we are giving more importance to less frequent keywords and vice versa\n",
    "dist[0] = dist[0].apply(lambda x: (x+1)**(-1))\n",
    "weights_keywords = dict(zip(list(dist[1].values),list(dist[0].values)))\n",
    "weights_keywords"
   ]
  },
  {
   "cell_type": "markdown",
   "id": "ef49f436",
   "metadata": {
    "id": "ef49f436"
   },
   "source": [
    "## 2.8 EDA: Train Data"
   ]
  },
  {
   "cell_type": "markdown",
   "id": "22a04ecf",
   "metadata": {
    "id": "22a04ecf"
   },
   "source": [
    "### 2.8.1 Distribution of Ratings"
   ]
  },
  {
   "cell_type": "code",
   "execution_count": 28,
   "id": "77facf30",
   "metadata": {
    "id": "77facf30",
    "outputId": "f5979972-e5f9-4d42-ef48-e5af3fd3030d"
   },
   "outputs": [
    {
     "data": {
      "image/png": "[encoded data removed]",
      "text/plain": [
       "<Figure size 640x480 with 1 Axes>"
      ]
     },
     "metadata": {},
     "output_type": "display_data"
    }
   ],
   "source": [
    "sns.countplot(x=X_train.rating)\n",
    "plt.title('Distribution of Ratings over Training Dataset')\n",
    "plt.show()"
   ]
  },
  {
   "cell_type": "markdown",
   "id": "8caa761f",
   "metadata": {
    "id": "8caa761f"
   },
   "source": [
    "### 2.8.2 Ratings given by users analysis"
   ]
  },
  {
   "cell_type": "code",
   "execution_count": 28,
   "id": "ed0f6ce5",
   "metadata": {
    "id": "ed0f6ce5",
    "outputId": "fd666014-f6d8-4df9-8bf6-35263139d37c"
   },
   "outputs": [
    {
     "data": {
      "image/png": "[encoded data removed]",
      "text/plain": [
       "<Figure size 1000x500 with 2 Axes>"
      ]
     },
     "metadata": {},
     "output_type": "display_data"
    }
   ],
   "source": [
    "user_rates = X_train.groupby('userId').rating.count()\n",
    "fig,ax = plt.subplots(1,2, figsize=(10,5)) \n",
    "sns.kdeplot(user_rates,ax=ax[0], shade=True)\n",
    "ax[0].set_xlabel('No. of ratings by user')\n",
    "ax[0].set_ylabel('PDF')\n",
    "sns.kdeplot(user_rates,ax=ax[1], cumulative=True, shade=True)\n",
    "ax[1].set_xlabel('No. of ratings by user')\n",
    "ax[1].set_ylabel('CDF')\n",
    "plt.show()"
   ]
  },
  {
   "cell_type": "code",
   "execution_count": 29,
   "id": "437ebd96",
   "metadata": {
    "id": "437ebd96",
    "outputId": "63bed985-580c-4633-dd0e-5f75b862bc0d"
   },
   "outputs": [
    {
     "data": {
      "text/plain": [
       "count     546.000000\n",
       "mean      146.241758\n",
       "std       222.321860\n",
       "min         6.000000\n",
       "25%        34.250000\n",
       "50%        64.000000\n",
       "75%       160.750000\n",
       "max      2058.000000\n",
       "Name: rating, dtype: float64"
      ]
     },
     "execution_count": 29,
     "metadata": {},
     "output_type": "execute_result"
    }
   ],
   "source": [
    "user_rates.describe()"
   ]
  },
  {
   "cell_type": "markdown",
   "id": "dec2982a",
   "metadata": {},
   "source": [
    "* Roughly 85% users have rated about 150 movies on an average\n",
    "* Maximum no. of ratings by a user is 2058"
   ]
  },
  {
   "cell_type": "code",
   "execution_count": 30,
   "id": "b0e1aeba",
   "metadata": {
    "id": "b0e1aeba"
   },
   "outputs": [],
   "source": [
    "def percentile(n,df):\n",
    "    n=n/100\n",
    "    return df.sort_values().iloc[int(len(df)*n)]"
   ]
  },
  {
   "cell_type": "code",
   "execution_count": 31,
   "id": "37981592",
   "metadata": {
    "id": "37981592",
    "outputId": "7f6825f6-c49d-4816-b350-1321ed604ab4"
   },
   "outputs": [
    {
     "name": "stdout",
     "output_type": "stream",
     "text": [
      "90th percentile value: 323\n",
      "91th percentile value: 340\n",
      "92th percentile value: 399\n",
      "93th percentile value: 423\n",
      "94th percentile value: 485\n",
      "95th percentile value: 520\n",
      "96th percentile value: 645\n",
      "97th percentile value: 726\n",
      "98th percentile value: 929\n",
      "99th percentile value: 1141\n"
     ]
    }
   ],
   "source": [
    "for i in range(90,100):\n",
    "    print(str(i)+'th percentile value:',percentile(i,user_rates))"
   ]
  },
  {
   "cell_type": "code",
   "execution_count": 32,
   "id": "6b4e9c58",
   "metadata": {
    "id": "6b4e9c58",
    "outputId": "2cdff6d5-4de3-4b60-97c8-7fcb6c6f5327"
   },
   "outputs": [
    {
     "name": "stdout",
     "output_type": "stream",
     "text": [
      "99.0th percentile value: 1141\n",
      "99.1th percentile value: 1253\n",
      "99.2th percentile value: 1253\n",
      "99.3th percentile value: 1290\n",
      "99.4th percentile value: 1290\n",
      "99.5th percentile value: 1340\n",
      "99.6th percentile value: 1340\n",
      "99.7th percentile value: 1866\n",
      "99.8th percentile value: 1866\n",
      "99.9th percentile value: 2058\n",
      "100.0th percentile value: 2058\n"
     ]
    }
   ],
   "source": [
    "for i in np.arange(99,100.1,0.1):\n",
    "    print(str(np.round(i,1))+'th percentile value:',percentile(i,user_rates))"
   ]
  },
  {
   "cell_type": "markdown",
   "id": "089b71cc",
   "metadata": {
    "id": "089b71cc"
   },
   "source": [
    "### 2.8.3 Ratings given on movies analysis"
   ]
  },
  {
   "cell_type": "code",
   "execution_count": 33,
   "id": "5979053c",
   "metadata": {
    "id": "5979053c",
    "outputId": "d21bb75e-4e36-407e-f924-d8084a3e4471"
   },
   "outputs": [
    {
     "data": {
      "image/png": "[encoded data removed]",
      "text/plain": [
       "<Figure size 1000x500 with 2 Axes>"
      ]
     },
     "metadata": {},
     "output_type": "display_data"
    }
   ],
   "source": [
    "movie_rates = X_train.groupby('movieId').rating.count()\n",
    "fig,ax = plt.subplots(1,2, figsize=(10,5)) \n",
    "sns.kdeplot(movie_rates,ax=ax[0], shade=True)\n",
    "ax[0].set_xlabel('No. of ratings on movie')\n",
    "ax[0].set_ylabel('PDF')\n",
    "sns.kdeplot(movie_rates,ax=ax[1], cumulative=True, shade=True)\n",
    "ax[1].set_xlabel('No. of ratings on movie')\n",
    "ax[1].set_ylabel('CDF')\n",
    "plt.show()"
   ]
  },
  {
   "cell_type": "code",
   "execution_count": 34,
   "id": "252c471a",
   "metadata": {
    "id": "252c471a",
    "outputId": "e7fe3041-6130-437a-a0c2-6e5edc8a0743"
   },
   "outputs": [
    {
     "data": {
      "text/plain": [
       "count    7328.000000\n",
       "mean       10.896288\n",
       "std        21.938445\n",
       "min         1.000000\n",
       "25%         1.000000\n",
       "50%         3.000000\n",
       "75%        10.000000\n",
       "max       265.000000\n",
       "Name: rating, dtype: float64"
      ]
     },
     "execution_count": 34,
     "metadata": {},
     "output_type": "execute_result"
    }
   ],
   "source": [
    "movie_rates.describe()"
   ]
  },
  {
   "cell_type": "markdown",
   "id": "541b46a3",
   "metadata": {},
   "source": [
    "* A movie has around 10 ratings on an average\n",
    "* Maximum no. of ratings on a movie is 265"
   ]
  },
  {
   "cell_type": "code",
   "execution_count": 35,
   "id": "fe082f8a",
   "metadata": {
    "id": "fe082f8a",
    "outputId": "eefd747d-6122-4f90-bb7c-9ecb7675f062"
   },
   "outputs": [
    {
     "name": "stdout",
     "output_type": "stream",
     "text": [
      "90th percentile value: 28\n",
      "91th percentile value: 31\n",
      "92th percentile value: 34\n",
      "93th percentile value: 38\n",
      "94th percentile value: 43\n",
      "95th percentile value: 48\n",
      "96th percentile value: 57\n",
      "97th percentile value: 68\n",
      "98th percentile value: 84\n",
      "99th percentile value: 114\n"
     ]
    }
   ],
   "source": [
    "for i in range(90,100):\n",
    "    print(str(i)+'th percentile value:',percentile(i,movie_rates))"
   ]
  },
  {
   "cell_type": "code",
   "execution_count": 36,
   "id": "a9049ebd",
   "metadata": {
    "id": "a9049ebd",
    "outputId": "58869f4f-1c5a-4c5e-f78e-ca41678294ee"
   },
   "outputs": [
    {
     "name": "stdout",
     "output_type": "stream",
     "text": [
      "99.0th percentile value: 114\n",
      "99.1th percentile value: 117\n",
      "99.2th percentile value: 120\n",
      "99.3th percentile value: 127\n",
      "99.4th percentile value: 135\n",
      "99.5th percentile value: 143\n",
      "99.6th percentile value: 164\n",
      "99.7th percentile value: 174\n",
      "99.8th percentile value: 189\n",
      "99.9th percentile value: 197\n",
      "100.0th percentile value: 265\n"
     ]
    }
   ],
   "source": [
    "for i in np.arange(99,100.1,0.1):\n",
    "    print(str(np.round(i,1))+'th percentile value:',percentile(i,movie_rates))"
   ]
  },
  {
   "cell_type": "markdown",
   "id": "d2651f20",
   "metadata": {
    "id": "d2651f20"
   },
   "source": [
    "# <font color='green'> 3. Popularity based RS"
   ]
  },
  {
   "cell_type": "code",
   "execution_count": 27,
   "id": "f9da91ae",
   "metadata": {
    "id": "f9da91ae"
   },
   "outputs": [],
   "source": [
    "#movies that are rated by atleast 100 users\n",
    "top_bool = X_train.groupby('movieId').count()['rating']\n",
    "top_ind = top_bool[top_bool>100].index\n",
    "\n",
    "top_movies = X_train[X_train.movieId.isin(top_ind)]\n",
    "top20_ids = top_movies.groupby('movieId').rating.mean().sort_values(ascending=False)[:20].index        #average rating"
   ]
  },
  {
   "cell_type": "code",
   "execution_count": 28,
   "id": "b8a02be3",
   "metadata": {
    "id": "b8a02be3",
    "outputId": "829a4072-f111-494e-a165-6b7a5575365a"
   },
   "outputs": [
    {
     "name": "stdout",
     "output_type": "stream",
     "text": [
      "Top 20 movies on the platform: \n",
      "\n",
      "The Godfather\n",
      "The Shawshank Redemption\n",
      "The Usual Suspects\n",
      "Schindler's List\n",
      "The Godfather: Part II\n",
      "One Flew Over the Cuckoo's Nest\n",
      "Fargo\n",
      "Star Wars\n",
      "The Empire Strikes Back\n",
      "The Lord of the Rings: The Fellowship of the Ring\n",
      "American Beauty\n",
      "Raiders of the Lost Ark\n",
      "Monty Python and the Holy Grail\n",
      "Pulp Fiction\n",
      "The Princess Bride\n",
      "The Matrix\n",
      "GoodFellas\n",
      "The Lord of the Rings: The Return of the King\n",
      "The Silence of the Lambs\n",
      "Good Will Hunting\n"
     ]
    }
   ],
   "source": [
    "print('Top 20 movies on the platform: \\n')\n",
    "for ind in top20_ids:\n",
    "    print(train_movies[train_movies.movieId==ind].title.values[0])"
   ]
  },
  {
   "cell_type": "markdown",
   "id": "50de0774",
   "metadata": {
    "id": "50de0774"
   },
   "source": [
    "# <font color='green'> 4. Collaborative Filtering"
   ]
  },
  {
   "cell_type": "markdown",
   "id": "0b1654f0",
   "metadata": {
    "id": "0b1654f0"
   },
   "source": [
    "## 4.1 Trainset and Testset"
   ]
  },
  {
   "cell_type": "code",
   "execution_count": 25,
   "id": "36ca6f43",
   "metadata": {},
   "outputs": [],
   "source": [
    "train_ratings = X_train[['userId','movieId','rating']]\n",
    "test_ratings = X_test[['userId','movieId','rating']]"
   ]
  },
  {
   "cell_type": "code",
   "execution_count": 26,
   "id": "b0b6f302",
   "metadata": {},
   "outputs": [],
   "source": [
    "#Trainset\n",
    "reader = Reader(rating_scale=(1,5))\n",
    "data = Dataset.load_from_df(train_ratings,reader)\n",
    "trainset = data.build_full_trainset()\n",
    "\n",
    "#Testset\n",
    "#list of list (or tuples)==> (user, id, rating)\n",
    "testset = test_ratings.values"
   ]
  },
  {
   "cell_type": "markdown",
   "id": "b1f49fc4",
   "metadata": {},
   "source": [
    "## 4.2 Training Models"
   ]
  },
  {
   "cell_type": "code",
   "execution_count": 28,
   "id": "ad7a39a4",
   "metadata": {
    "id": "075b3105"
   },
   "outputs": [],
   "source": [
    "def get_predictions(results):\n",
    "    true = np.array([i.r_ui for i in results])\n",
    "    pred = np.array([i.est for i in results])\n",
    "    return true,pred\n",
    "\n",
    "def rmse(true,pred):\n",
    "    return np.sqrt(np.mean((true-pred)**2))"
   ]
  },
  {
   "cell_type": "markdown",
   "id": "0444e3cc",
   "metadata": {
    "id": "0444e3cc"
   },
   "source": [
    "### 4.2.1 BaselineOnly"
   ]
  },
  {
   "cell_type": "code",
   "execution_count": 35,
   "id": "d77f0b16",
   "metadata": {
    "id": "d77f0b16"
   },
   "outputs": [
    {
     "name": "stdout",
     "output_type": "stream",
     "text": [
      "Estimating biases using sgd...\n"
     ]
    },
    {
     "data": {
      "text/plain": [
       "<surprise.prediction_algorithms.baseline_only.BaselineOnly at 0x1de7dbb29d0>"
      ]
     },
     "execution_count": 35,
     "metadata": {},
     "output_type": "execute_result"
    }
   ],
   "source": [
    "bsl_options = {\n",
    "    \"method\": \"sgd\",\n",
    "    \"learning_rate\": 0.00005,\n",
    "}\n",
    "algo = BaselineOnly(bsl_options=bsl_options)\n",
    "algo.fit(trainset)"
   ]
  },
  {
   "cell_type": "code",
   "execution_count": 36,
   "id": "c1d0704c",
   "metadata": {},
   "outputs": [],
   "source": [
    "train_test = trainset.build_testset()\n",
    "train_results = algo.test(train_test)#, verbose=True)\n",
    "test_results = algo.test(testset)#, verbose=True)"
   ]
  },
  {
   "cell_type": "code",
   "execution_count": 37,
   "id": "e8eed141",
   "metadata": {},
   "outputs": [
    {
     "name": "stdout",
     "output_type": "stream",
     "text": [
      "Train RMSE: 1.003646259018717\n",
      "Test RMSE: 1.0643783580039998\n"
     ]
    }
   ],
   "source": [
    "true,pred = get_predictions(train_results)\n",
    "print('Train RMSE:', rmse(true,pred))\n",
    "true,pred = get_predictions(test_results)\n",
    "print('Test RMSE:', rmse(true,pred))"
   ]
  },
  {
   "cell_type": "markdown",
   "id": "3b6293c3",
   "metadata": {},
   "source": [
    "### 4.2.2 SVD"
   ]
  },
  {
   "cell_type": "code",
   "execution_count": 61,
   "id": "fb3bc101",
   "metadata": {},
   "outputs": [
    {
     "data": {
      "text/plain": [
       "<surprise.prediction_algorithms.matrix_factorization.SVD at 0x1de7e550580>"
      ]
     },
     "execution_count": 61,
     "metadata": {},
     "output_type": "execute_result"
    }
   ],
   "source": [
    "svd_algo = SVD(n_factors=100, biased=True, random_state=42)\n",
    "svd_algo.fit(trainset)"
   ]
  },
  {
   "cell_type": "code",
   "execution_count": 62,
   "id": "bfeefb87",
   "metadata": {
    "colab": {
     "base_uri": "https://localhost:8080/",
     "height": 165
    },
    "id": "bfeefb87",
    "outputId": "fec9d957-786e-449e-c443-1162c983e5f1"
   },
   "outputs": [],
   "source": [
    "train_test = trainset.build_testset()\n",
    "train_results = svd_algo.test(train_test)#, verbose=True)\n",
    "test_results = svd_algo.test(testset)#, verbose=True)"
   ]
  },
  {
   "cell_type": "code",
   "execution_count": 63,
   "id": "abe235f3",
   "metadata": {},
   "outputs": [
    {
     "name": "stdout",
     "output_type": "stream",
     "text": [
      "Train RMSE: 0.6522946861909564\n",
      "Test RMSE: 1.0194555971818868\n"
     ]
    }
   ],
   "source": [
    "true,pred = get_predictions(train_results)\n",
    "print('Train RMSE:', rmse(true,pred))\n",
    "true,pred = get_predictions(test_results)\n",
    "print('Test RMSE:', rmse(true,pred))"
   ]
  },
  {
   "cell_type": "markdown",
   "id": "f2e9027c",
   "metadata": {},
   "source": [
    "### 4.2.3 SVDpp"
   ]
  },
  {
   "cell_type": "code",
   "execution_count": 64,
   "id": "cda095f1",
   "metadata": {},
   "outputs": [
    {
     "name": "stdout",
     "output_type": "stream",
     "text": [
      "Done Dumping...!\n"
     ]
    }
   ],
   "source": [
    "if not os.path.isfile(path_+'svdpp_algo.pkl'):\n",
    "    svdpp_algo = SVDpp(random_state=24)\n",
    "    svdpp_algo.fit(trainset)\n",
    "    surprise.dump.dump(path_+'svdpp_algo.pkl',algo=svdpp_algo)\n",
    "    print('Done Dumping...!')\n",
    "svdpp_algo = surprise.dump.load(path_+'svdpp_algo.pkl')[1]       #tuple (prediction,algo)"
   ]
  },
  {
   "cell_type": "code",
   "execution_count": 65,
   "id": "842fd67d",
   "metadata": {},
   "outputs": [],
   "source": [
    "train_test = trainset.build_testset()\n",
    "train_results = svdpp_algo.test(train_test)#, verbose=True)\n",
    "test_results = svdpp_algo.test(testset)#, verbose=True)"
   ]
  },
  {
   "cell_type": "code",
   "execution_count": 66,
   "id": "8e654a23",
   "metadata": {},
   "outputs": [
    {
     "name": "stdout",
     "output_type": "stream",
     "text": [
      "Train RMSE: 0.6973894260142327\n",
      "Test RMSE: 1.0171675467576995\n"
     ]
    }
   ],
   "source": [
    "true,pred = get_predictions(train_results)\n",
    "print('Train RMSE:', rmse(true,pred))\n",
    "true,pred = get_predictions(test_results)\n",
    "print('Test RMSE:', rmse(true,pred))"
   ]
  },
  {
   "cell_type": "markdown",
   "id": "2cf8785d",
   "metadata": {},
   "source": [
    "## 4.3 Summary"
   ]
  },
  {
   "cell_type": "code",
   "execution_count": 67,
   "id": "1b0a0715",
   "metadata": {},
   "outputs": [
    {
     "name": "stdout",
     "output_type": "stream",
     "text": [
      "+--------------+------------+-----------+\n",
      "|    Model     | Train RMSE | Test RMSE |\n",
      "+--------------+------------+-----------+\n",
      "| BaselineOnly |   1.0036   |   1.0644  |\n",
      "|     SVD      |   0.6523   |   1.0195  |\n",
      "|    SVD++     |   0.6974   |   1.0172  |\n",
      "+--------------+------------+-----------+\n"
     ]
    }
   ],
   "source": [
    "x = PrettyTable()\n",
    "x.field_names = ['Model', 'Train RMSE', 'Test RMSE']\n",
    "x.add_row(['BaselineOnly', str(np.round(1.003646259018717, 4)), str(np.round(1.0643783580039998, 4))])\n",
    "x.add_row(['SVD', str(np.round(0.6522946861909564, 4)), str(np.round(1.0194555971818868, 4))])\n",
    "x.add_row(['SVD++', str(np.round(0.6973894260142327, 4)), str(np.round(1.0171675467576995, 4))])\n",
    "print(x)"
   ]
  },
  {
   "cell_type": "markdown",
   "id": "02e5e002",
   "metadata": {},
   "source": [
    "## 4.4 Recommed movies"
   ]
  },
  {
   "cell_type": "code",
   "execution_count": 35,
   "id": "0d2e8552",
   "metadata": {},
   "outputs": [],
   "source": [
    "def recommend_10(user_id, svd_algo):\n",
    "    movies_watched = set(train_ratings[train_ratings.userId==user_id].movieId.values)\n",
    "    \n",
    "    if len(movies_watched)==0:\n",
    "        return 'User new to the platform'\n",
    "    \n",
    "    movies_unwatched = set(train_movies.movieId) - movies_watched\n",
    "\n",
    "    results = []\n",
    "    for mid in movies_unwatched:\n",
    "        results.append(svd_algo.predict(user_id, mid))\n",
    "    \n",
    "    df =  pd.DataFrame([(i.iid,i.est) for i in results], columns=['movieId', 'rating']).sort_values('rating', ascending=False)\n",
    "    top10_ids = df.movieId[:10] \n",
    "    \n",
    "    return train_movies[train_movies.movieId.isin(top10_ids)][['title','genres']]#, top10_ids\n"
   ]
  },
  {
   "cell_type": "code",
   "execution_count": 36,
   "id": "8ca44e60",
   "metadata": {},
   "outputs": [
    {
     "data": {
      "text/html": [
       "<div>\n",
       "<style scoped>\n",
       "    .dataframe tbody tr th:only-of-type {\n",
       "        vertical-align: middle;\n",
       "    }\n",
       "\n",
       "    .dataframe tbody tr th {\n",
       "        vertical-align: top;\n",
       "    }\n",
       "\n",
       "    .dataframe thead th {\n",
       "        text-align: right;\n",
       "    }\n",
       "</style>\n",
       "<table border=\"1\" class=\"dataframe\">\n",
       "  <thead>\n",
       "    <tr style=\"text-align: right;\">\n",
       "      <th></th>\n",
       "      <th>title</th>\n",
       "      <th>genres</th>\n",
       "    </tr>\n",
       "  </thead>\n",
       "  <tbody>\n",
       "    <tr>\n",
       "      <th>273</th>\n",
       "      <td>Three Colors: Red</td>\n",
       "      <td>['drama', 'mystery', 'romance']</td>\n",
       "    </tr>\n",
       "    <tr>\n",
       "      <th>320</th>\n",
       "      <td>Forrest Gump</td>\n",
       "      <td>['comedy', 'drama', 'romance']</td>\n",
       "    </tr>\n",
       "    <tr>\n",
       "      <th>618</th>\n",
       "      <td>A Close Shave</td>\n",
       "      <td>['family', 'animation', 'comedy']</td>\n",
       "    </tr>\n",
       "    <tr>\n",
       "      <th>779</th>\n",
       "      <td>Night of the Living Dead</td>\n",
       "      <td>['horror']</td>\n",
       "    </tr>\n",
       "    <tr>\n",
       "      <th>780</th>\n",
       "      <td>The African Queen</td>\n",
       "      <td>['adventure', 'war', 'romance']</td>\n",
       "    </tr>\n",
       "    <tr>\n",
       "      <th>946</th>\n",
       "      <td>The Princess Bride</td>\n",
       "      <td>['adventure', 'family', 'fantasy', 'comedy', '...</td>\n",
       "    </tr>\n",
       "    <tr>\n",
       "      <th>1514</th>\n",
       "      <td>Rain Man</td>\n",
       "      <td>['drama']</td>\n",
       "    </tr>\n",
       "    <tr>\n",
       "      <th>2361</th>\n",
       "      <td>Fight Club</td>\n",
       "      <td>['drama']</td>\n",
       "    </tr>\n",
       "    <tr>\n",
       "      <th>3337</th>\n",
       "      <td>Memento</td>\n",
       "      <td>['mystery', 'thriller']</td>\n",
       "    </tr>\n",
       "    <tr>\n",
       "      <th>6257</th>\n",
       "      <td>The Departed</td>\n",
       "      <td>['drama', 'thriller', 'crime']</td>\n",
       "    </tr>\n",
       "  </tbody>\n",
       "</table>\n",
       "</div>"
      ],
      "text/plain": [
       "                         title  \\\n",
       "273          Three Colors: Red   \n",
       "320               Forrest Gump   \n",
       "618              A Close Shave   \n",
       "779   Night of the Living Dead   \n",
       "780          The African Queen   \n",
       "946         The Princess Bride   \n",
       "1514                  Rain Man   \n",
       "2361                Fight Club   \n",
       "3337                   Memento   \n",
       "6257              The Departed   \n",
       "\n",
       "                                                 genres  \n",
       "273                     ['drama', 'mystery', 'romance']  \n",
       "320                      ['comedy', 'drama', 'romance']  \n",
       "618                   ['family', 'animation', 'comedy']  \n",
       "779                                          ['horror']  \n",
       "780                     ['adventure', 'war', 'romance']  \n",
       "946   ['adventure', 'family', 'fantasy', 'comedy', '...  \n",
       "1514                                          ['drama']  \n",
       "2361                                          ['drama']  \n",
       "3337                            ['mystery', 'thriller']  \n",
       "6257                     ['drama', 'thriller', 'crime']  "
      ]
     },
     "execution_count": 36,
     "metadata": {},
     "output_type": "execute_result"
    }
   ],
   "source": [
    "recommend_10(1,algo)"
   ]
  },
  {
   "cell_type": "markdown",
   "id": "e9bd9b26",
   "metadata": {},
   "source": [
    "# <font color='green'> 5. Graph based Recommendations"
   ]
  },
  {
   "cell_type": "markdown",
   "id": "714e0cd3",
   "metadata": {},
   "source": [
    "## 5.1 Creating nodes and edges"
   ]
  },
  {
   "cell_type": "code",
   "execution_count": 36,
   "id": "46048e92",
   "metadata": {},
   "outputs": [
    {
     "data": {
      "text/plain": [
       "[(1, 'jealousy', 4.354647016876634),\n",
       " (1, 'toy', 7.532894736842105),\n",
       " (1, 'boy', 3.4039390561129688),\n",
       " (1, 'friendship', 2.7213309566250743),\n",
       " (1, 'friends', 2.05680925115078),\n",
       " (1, 'rivalry', 6.14352783366868),\n",
       " (1, 'boy next door', 9.734325185972368),\n",
       " (1, 'new toy', 9.734325185972368),\n",
       " (1, 'toy comes to life', 8.799231508165226),\n",
       " (1, 'animation', 49.513513513513516)]"
      ]
     },
     "execution_count": 36,
     "metadata": {},
     "output_type": "execute_result"
    }
   ],
   "source": [
    "edges = []\n",
    "for row in train_movies.iterrows():\n",
    "    mid = row[1].movieId\n",
    "    edges.extend([(mid, k, weights_keywords.get(k,0)*10) for k in ast.literal_eval(row[1].keywords)]) \n",
    "    edges.extend([(mid, g, weights_genre[g]*200) for g in ast.literal_eval(row[1].genres)])\n",
    "edges[:10]\n",
    "\n",
    "#we give 20 times more weightage to the genres of the movie"
   ]
  },
  {
   "cell_type": "code",
   "execution_count": 37,
   "id": "42f3d562",
   "metadata": {},
   "outputs": [
    {
     "name": "stdout",
     "output_type": "stream",
     "text": [
      "(71101, 3)\n"
     ]
    },
    {
     "data": {
      "text/html": [
       "<div>\n",
       "<style scoped>\n",
       "    .dataframe tbody tr th:only-of-type {\n",
       "        vertical-align: middle;\n",
       "    }\n",
       "\n",
       "    .dataframe tbody tr th {\n",
       "        vertical-align: top;\n",
       "    }\n",
       "\n",
       "    .dataframe thead th {\n",
       "        text-align: right;\n",
       "    }\n",
       "</style>\n",
       "<table border=\"1\" class=\"dataframe\">\n",
       "  <thead>\n",
       "    <tr style=\"text-align: right;\">\n",
       "      <th></th>\n",
       "      <th>movieId</th>\n",
       "      <th>keywords</th>\n",
       "      <th>weights</th>\n",
       "    </tr>\n",
       "  </thead>\n",
       "  <tbody>\n",
       "    <tr>\n",
       "      <th>0</th>\n",
       "      <td>1</td>\n",
       "      <td>jealousy</td>\n",
       "      <td>4.354647</td>\n",
       "    </tr>\n",
       "    <tr>\n",
       "      <th>1</th>\n",
       "      <td>1</td>\n",
       "      <td>toy</td>\n",
       "      <td>7.532895</td>\n",
       "    </tr>\n",
       "    <tr>\n",
       "      <th>2</th>\n",
       "      <td>1</td>\n",
       "      <td>boy</td>\n",
       "      <td>3.403939</td>\n",
       "    </tr>\n",
       "    <tr>\n",
       "      <th>3</th>\n",
       "      <td>1</td>\n",
       "      <td>friendship</td>\n",
       "      <td>2.721331</td>\n",
       "    </tr>\n",
       "    <tr>\n",
       "      <th>4</th>\n",
       "      <td>1</td>\n",
       "      <td>friends</td>\n",
       "      <td>2.056809</td>\n",
       "    </tr>\n",
       "  </tbody>\n",
       "</table>\n",
       "</div>"
      ],
      "text/plain": [
       "   movieId    keywords   weights\n",
       "0        1    jealousy  4.354647\n",
       "1        1         toy  7.532895\n",
       "2        1         boy  3.403939\n",
       "3        1  friendship  2.721331\n",
       "4        1     friends  2.056809"
      ]
     },
     "execution_count": 37,
     "metadata": {},
     "output_type": "execute_result"
    }
   ],
   "source": [
    "data = pd.DataFrame(edges, columns=['movieId','keywords','weights'])\n",
    "print(data.shape)\n",
    "data.head()"
   ]
  },
  {
   "cell_type": "markdown",
   "id": "3442bf22",
   "metadata": {},
   "source": [
    "## 5.2 Creating Graph"
   ]
  },
  {
   "cell_type": "code",
   "execution_count": 41,
   "id": "ee9e9f43",
   "metadata": {},
   "outputs": [],
   "source": [
    "if not os.path.isfile(path_+'graph.pkl'):\n",
    "    B = nx.Graph()\n",
    "    B.add_nodes_from(data.movieId.unique(), bipartite=0, label='movie')\n",
    "    B.add_nodes_from(data.keywords.unique(), bipartite=1, label='keygen')\n",
    "    B.add_weighted_edges_from(edges)\n",
    "    pickle.dump(B,open(path_+'graph.pkl','wb'))\n",
    "\n",
    "B = pickle.load(open(path_+'graph.pkl','rb'))"
   ]
  },
  {
   "cell_type": "code",
   "execution_count": 42,
   "id": "98070212",
   "metadata": {},
   "outputs": [
    {
     "name": "stdout",
     "output_type": "stream",
     "text": [
      "No.of nodes : 18923\n",
      "No. of edges: 70868\n"
     ]
    }
   ],
   "source": [
    "print('No.of nodes :', len(B.nodes()))         #7311movies + 11612(keywords+genres)\n",
    "print('No. of edges:', len(B.edges()))"
   ]
  },
  {
   "cell_type": "code",
   "execution_count": 43,
   "id": "726bad85",
   "metadata": {
    "scrolled": false
   },
   "outputs": [
    {
     "data": {
      "image/png": "[encoded data removed]",
      "text/plain": [
       "<Figure size 600x300 with 1 Axes>"
      ]
     },
     "metadata": {},
     "output_type": "display_data"
    }
   ],
   "source": [
    "l,r = bipartite.sets(B)\n",
    "pos = {}                                                #key=node, value=pos=(x,y)\n",
    "pos.update((node,(1,ind)) for ind,node in enumerate(l))\n",
    "pos.update((node,(2,ind)) for ind,node in enumerate(r))\n",
    "\n",
    "fig,ax = plt.subplots(figsize=(6,3))\n",
    "nx.draw(B, pos=pos, ax=ax)#, with_labels=True)\n",
    "plt.show()"
   ]
  },
  {
   "cell_type": "markdown",
   "id": "645ecaff",
   "metadata": {},
   "source": [
    "### Example of a node and its edges based on edge weight"
   ]
  },
  {
   "cell_type": "markdown",
   "id": "c6f62359",
   "metadata": {},
   "source": [
    "* genres are weighted according to the inverse of their distribution, thus giving more weight to the less popular genres\n",
    "* keywords too are weighted according to the same logic\n",
    "* 20 times more weightage to the genres of the movie"
   ]
  },
  {
   "cell_type": "code",
   "execution_count": 46,
   "id": "318e0eeb",
   "metadata": {},
   "outputs": [
    {
     "data": {
      "image/png": "[encoded data removed]",
      "text/plain": [
       "<Figure size 640x480 with 1 Axes>"
      ]
     },
     "metadata": {},
     "output_type": "display_data"
    }
   ],
   "source": [
    "sub=nx.ego_graph(B,1)          #Movie is 'The Toy Story'... genres=[comedy,family,animation]\n",
    "nx.draw_networkx(sub)"
   ]
  },
  {
   "cell_type": "code",
   "execution_count": 47,
   "id": "44ae6187",
   "metadata": {},
   "outputs": [
    {
     "data": {
      "text/plain": [
       "{(1, 'jealousy'): 4.354647016876634,\n",
       " (1, 'toy'): 7.532894736842105,\n",
       " (1, 'boy'): 3.4039390561129688,\n",
       " (1, 'friendship'): 2.7213309566250743,\n",
       " (1, 'friends'): 2.05680925115078,\n",
       " (1, 'rivalry'): 6.14352783366868,\n",
       " (1, 'boy next door'): 9.734325185972368,\n",
       " (1, 'new toy'): 9.734325185972368,\n",
       " (1, 'toy comes to life'): 8.799231508165226,\n",
       " (1, 'animation'): 49.513513513513516,\n",
       " (1, 'comedy'): 5.290974729241878,\n",
       " (1, 'family'): 20.70056497175141}"
      ]
     },
     "execution_count": 47,
     "metadata": {},
     "output_type": "execute_result"
    }
   ],
   "source": [
    "nx.get_edge_attributes(sub, 'weight')"
   ]
  },
  {
   "cell_type": "markdown",
   "id": "99f04a4e",
   "metadata": {},
   "source": [
    "## 5.3 Recommending movies"
   ]
  },
  {
   "cell_type": "code",
   "execution_count": 64,
   "id": "86f0fd5e",
   "metadata": {},
   "outputs": [],
   "source": [
    "def graph_recommend(q):\n",
    "    \n",
    "    rw = BiasedRandomWalk(StellarGraph(B))                       \n",
    "    walk = rw.run(nodes=[q], n=1, length=10000, p=0.01, q=100, weighted=True, seed=42)\n",
    "\n",
    "    #with 1/p prob, it returns to the source node\n",
    "    #with 1/q prob, it moves away from the source node    \n",
    "    #Shape of walk: (1,10000)\n",
    "\n",
    "    walk = list(filter(lambda x:type(x)==int, walk[0])) #getting rid of keywords and genres... left with only movieIds\n",
    "    walk = list(map(str, walk))                         #for countvectorizer\n",
    "    walk = ' '.join(walk)                               #['m1','m2','m3'] ====> 'm1 m2 m3'... for tokenzation \n",
    "    \n",
    "    vocab = {str(mov):ind for ind,mov in enumerate(train_movies.movieId.sort_values().unique())}   #movieId:index\n",
    "    vec = CountVectorizer(vocabulary=vocab)\n",
    "    embed = vec.fit_transform([walk])\n",
    "    \n",
    "    reverse_vocab = {v:int(k) for k,v in vocab.items()}         #index:movieId\n",
    "\n",
    "    embed = np.array(embed.todense())[0]\n",
    "\n",
    "    top5_ids=[]\n",
    "    for ind in embed.argsort()[::-1]:\n",
    "        if len(top5_ids)==5: break\n",
    "        movid = reverse_vocab[ind]\n",
    "        if movid!=q:\n",
    "            top5_ids.append(movid)\n",
    "    \n",
    "    print(\"Movies similar to '{}':\".format(train_movies[train_movies.movieId==q].title.values[0]))\n",
    "    return train_movies[train_movies.movieId.isin(top5_ids)]"
   ]
  },
  {
   "cell_type": "code",
   "execution_count": 65,
   "id": "f74aeb13",
   "metadata": {},
   "outputs": [
    {
     "name": "stdout",
     "output_type": "stream",
     "text": [
      "Movies similar to 'The Matrix':\n"
     ]
    },
    {
     "data": {
      "text/html": [
       "<div>\n",
       "<style scoped>\n",
       "    .dataframe tbody tr th:only-of-type {\n",
       "        vertical-align: middle;\n",
       "    }\n",
       "\n",
       "    .dataframe tbody tr th {\n",
       "        vertical-align: top;\n",
       "    }\n",
       "\n",
       "    .dataframe thead th {\n",
       "        text-align: right;\n",
       "    }\n",
       "</style>\n",
       "<table border=\"1\" class=\"dataframe\">\n",
       "  <thead>\n",
       "    <tr style=\"text-align: right;\">\n",
       "      <th></th>\n",
       "      <th>title</th>\n",
       "      <th>genres</th>\n",
       "      <th>movieId</th>\n",
       "      <th>tmdbId</th>\n",
       "      <th>keywords</th>\n",
       "    </tr>\n",
       "  </thead>\n",
       "  <tbody>\n",
       "    <tr>\n",
       "      <th>1186</th>\n",
       "      <td>Smilla's Sense of Snow</td>\n",
       "      <td>['action', 'crime', 'drama', 'mystery', 'thril...</td>\n",
       "      <td>1480</td>\n",
       "      <td>9311.0</td>\n",
       "      <td>['copenhagen', 'inuit', 'comet', 'arctic', 'sn...</td>\n",
       "    </tr>\n",
       "    <tr>\n",
       "      <th>2982</th>\n",
       "      <td>Asylum</td>\n",
       "      <td>['horror', 'thriller', 'mystery']</td>\n",
       "      <td>3757</td>\n",
       "      <td>25993.0</td>\n",
       "      <td>['asylum', 'insane asylum', 'anthology', 'psyc...</td>\n",
       "    </tr>\n",
       "    <tr>\n",
       "      <th>3215</th>\n",
       "      <td>Breakheart Pass</td>\n",
       "      <td>['thriller', 'western', 'mystery']</td>\n",
       "      <td>4045</td>\n",
       "      <td>8043.0</td>\n",
       "      <td>['prisoner', 'train ride', 'governor', 'army',...</td>\n",
       "    </tr>\n",
       "    <tr>\n",
       "      <th>3666</th>\n",
       "      <td>The Deep End</td>\n",
       "      <td>['drama', 'crime', 'mystery']</td>\n",
       "      <td>4723</td>\n",
       "      <td>24936.0</td>\n",
       "      <td>['casino', 'ambulance', 'fight', 'wound', 'fri...</td>\n",
       "    </tr>\n",
       "    <tr>\n",
       "      <th>3741</th>\n",
       "      <td>Mulholland Drive</td>\n",
       "      <td>['thriller', 'drama', 'mystery']</td>\n",
       "      <td>4848</td>\n",
       "      <td>1018.0</td>\n",
       "      <td>['schizophrenia', 'identity', 'amnesia', 'loss...</td>\n",
       "    </tr>\n",
       "  </tbody>\n",
       "</table>\n",
       "</div>"
      ],
      "text/plain": [
       "                       title  \\\n",
       "1186  Smilla's Sense of Snow   \n",
       "2982                  Asylum   \n",
       "3215         Breakheart Pass   \n",
       "3666            The Deep End   \n",
       "3741        Mulholland Drive   \n",
       "\n",
       "                                                 genres  movieId   tmdbId  \\\n",
       "1186  ['action', 'crime', 'drama', 'mystery', 'thril...     1480   9311.0   \n",
       "2982                  ['horror', 'thriller', 'mystery']     3757  25993.0   \n",
       "3215                 ['thriller', 'western', 'mystery']     4045   8043.0   \n",
       "3666                      ['drama', 'crime', 'mystery']     4723  24936.0   \n",
       "3741                   ['thriller', 'drama', 'mystery']     4848   1018.0   \n",
       "\n",
       "                                               keywords  \n",
       "1186  ['copenhagen', 'inuit', 'comet', 'arctic', 'sn...  \n",
       "2982  ['asylum', 'insane asylum', 'anthology', 'psyc...  \n",
       "3215  ['prisoner', 'train ride', 'governor', 'army',...  \n",
       "3666  ['casino', 'ambulance', 'fight', 'wound', 'fri...  \n",
       "3741  ['schizophrenia', 'identity', 'amnesia', 'loss...  "
      ]
     },
     "execution_count": 65,
     "metadata": {},
     "output_type": "execute_result"
    }
   ],
   "source": [
    "q=2571                               #The Matrix(2571)    #Toy Story(1)    #Spider-Man(5349)\n",
    "graph_recommend(q)"
   ]
  },
  {
   "cell_type": "code",
   "execution_count": null,
   "id": "51e95ad3",
   "metadata": {},
   "outputs": [],
   "source": []
  }
 ],
 "metadata": {
  "colab": {
   "provenance": []
  },
  "kernelspec": {
   "display_name": "Python 3 (ipykernel)",
   "language": "python",
   "name": "python3"
  },
  "language_info": {
   "codemirror_mode": {
    "name": "ipython",
    "version": 3
   },
   "file_extension": ".py",
   "mimetype": "text/x-python",
   "name": "python",
   "nbconvert_exporter": "python",
   "pygments_lexer": "ipython3",
   "version": "3.9.15"
  }
 },
 "nbformat": 4,
 "nbformat_minor": 5
}
